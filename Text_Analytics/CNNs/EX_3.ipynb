{
 "cells": [
  {
   "cell_type": "markdown",
   "id": "2970421d",
   "metadata": {},
   "source": [
    "# Exercises on Natural Language Processing with Convolutional Neural Networks"
   ]
  },
  {
   "cell_type": "markdown",
   "id": "b599d8b5",
   "metadata": {},
   "source": [
    "## Exercise 3"
   ]
  },
  {
   "cell_type": "code",
   "execution_count": 1,
   "id": "7ece1056",
   "metadata": {},
   "outputs": [
    {
     "name": "stdout",
     "output_type": "stream",
     "text": [
      "WARNING:tensorflow:From C:\\Users\\vassi\\anaconda3\\Lib\\site-packages\\keras\\src\\losses.py:2976: The name tf.losses.sparse_softmax_cross_entropy is deprecated. Please use tf.compat.v1.losses.sparse_softmax_cross_entropy instead.\n",
      "\n"
     ]
    }
   ],
   "source": [
    "import pandas as pd\n",
    "import warnings\n",
    "from sklearn.metrics import precision_recall_curve, auc, f1_score\n",
    "from sklearn.preprocessing import label_binarize\n",
    "from sklearn.metrics import classification_report\n",
    "from tensorflow.keras.preprocessing.text import Tokenizer\n",
    "from tensorflow.keras.preprocessing.sequence import pad_sequences\n",
    "import fasttext.util\n",
    "import numpy as np\n",
    "warnings.filterwarnings('ignore')"
   ]
  },
  {
   "cell_type": "code",
   "execution_count": 2,
   "id": "74d61cca",
   "metadata": {},
   "outputs": [],
   "source": [
    "def read_conllu(file_path):\n",
    "    df = pd.DataFrame(columns=['Sentence', 'POS_Tags'])\n",
    "    Pos_Tags = ''\n",
    "    sentence = ''\n",
    "\n",
    "    with open(file_path, 'r', encoding='utf-8') as file:\n",
    "        i = -1\n",
    "        for line in file:\n",
    "            line = line.strip()\n",
    "            if line == '':\n",
    "                if (sentence != ''):\n",
    "                    sentence = sentence.lstrip()\n",
    "                    Pos_Tags = Pos_Tags.lstrip()\n",
    "                    new_row = {'Sentence': sentence, 'POS_Tags': Pos_Tags}\n",
    "                    df = df.append(new_row, ignore_index=True)\n",
    "                    Pos_Tags = ''\n",
    "                    sentence = ''\n",
    "            elif line.startswith('#'):\n",
    "                continue\n",
    "            else:\n",
    "                tokens = line.split('\\t')\n",
    "                word = tokens[1]\n",
    "                POS_tag = tokens[3]\n",
    "                if (POS_tag != \"SYM\" and POS_tag != \"PART\" and POS_tag != \"_\"):\n",
    "                    sentence = sentence + \" \" + word\n",
    "                    Pos_Tags = Pos_Tags + \" \" + POS_tag\n",
    "    return df"
   ]
  },
  {
   "cell_type": "code",
   "execution_count": 3,
   "id": "695b735e",
   "metadata": {},
   "outputs": [
    {
     "data": {
      "text/html": [
       "<div>\n",
       "<style scoped>\n",
       "    .dataframe tbody tr th:only-of-type {\n",
       "        vertical-align: middle;\n",
       "    }\n",
       "\n",
       "    .dataframe tbody tr th {\n",
       "        vertical-align: top;\n",
       "    }\n",
       "\n",
       "    .dataframe thead th {\n",
       "        text-align: right;\n",
       "    }\n",
       "</style>\n",
       "<table border=\"1\" class=\"dataframe\">\n",
       "  <thead>\n",
       "    <tr style=\"text-align: right;\">\n",
       "      <th></th>\n",
       "      <th>Sentence</th>\n",
       "      <th>POS_Tags</th>\n",
       "    </tr>\n",
       "  </thead>\n",
       "  <tbody>\n",
       "    <tr>\n",
       "      <th>0</th>\n",
       "      <td>Le infrastrutture come fattore di competitivit...</td>\n",
       "      <td>DET NOUN ADP NOUN ADP NOUN ADP PROPN PROPN PUNCT</td>\n",
       "    </tr>\n",
       "    <tr>\n",
       "      <th>1</th>\n",
       "      <td>In gli ultimi anni la dinamica di i polo di at...</td>\n",
       "      <td>ADP DET ADJ NOUN DET NOUN ADP DET NOUN ADP NOU...</td>\n",
       "    </tr>\n",
       "    <tr>\n",
       "      <th>2</th>\n",
       "      <td>Il raggiungimento e il mantenimento di posizio...</td>\n",
       "      <td>DET NOUN CCONJ DET NOUN ADP NOUN ADJ AUX ADV A...</td>\n",
       "    </tr>\n",
       "    <tr>\n",
       "      <th>3</th>\n",
       "      <td>Quest' ultimo è funzione di variabili struttur...</td>\n",
       "      <td>DET ADJ AUX NOUN ADP NOUN ADJ ADP PRON DET NOU...</td>\n",
       "    </tr>\n",
       "    <tr>\n",
       "      <th>4</th>\n",
       "      <td>Il contesto milanese , se da un lato è stato t...</td>\n",
       "      <td>DET NOUN ADJ PUNCT SCONJ ADP DET NOUN AUX AUX ...</td>\n",
       "    </tr>\n",
       "    <tr>\n",
       "      <th>...</th>\n",
       "      <td>...</td>\n",
       "      <td>...</td>\n",
       "    </tr>\n",
       "    <tr>\n",
       "      <th>8272</th>\n",
       "      <td>Premio Elsa Morante .</td>\n",
       "      <td>NOUN PROPN PROPN PUNCT</td>\n",
       "    </tr>\n",
       "    <tr>\n",
       "      <th>8273</th>\n",
       "      <td>È nato il premio Elsa Morante che verrà assegn...</td>\n",
       "      <td>AUX VERB DET NOUN PROPN PROPN PRON AUX VERB DE...</td>\n",
       "    </tr>\n",
       "    <tr>\n",
       "      <th>8274</th>\n",
       "      <td>Questo Premio che non avrà sede fissa né statu...</td>\n",
       "      <td>DET PROPN PRON ADV VERB NOUN ADJ ADV NOUN ADV ...</td>\n",
       "    </tr>\n",
       "    <tr>\n",
       "      <th>8275</th>\n",
       "      <td>sono promotori di l' iniziativa Patrizia Caval...</td>\n",
       "      <td>AUX NOUN ADP DET NOUN PROPN PROPN PUNCT PROPN ...</td>\n",
       "    </tr>\n",
       "    <tr>\n",
       "      <th>8276</th>\n",
       "      <td>Libri in campo .</td>\n",
       "      <td>NOUN ADP NOUN PUNCT</td>\n",
       "    </tr>\n",
       "  </tbody>\n",
       "</table>\n",
       "<p>8277 rows × 2 columns</p>\n",
       "</div>"
      ],
      "text/plain": [
       "                                               Sentence  \\\n",
       "0     Le infrastrutture come fattore di competitivit...   \n",
       "1     In gli ultimi anni la dinamica di i polo di at...   \n",
       "2     Il raggiungimento e il mantenimento di posizio...   \n",
       "3     Quest' ultimo è funzione di variabili struttur...   \n",
       "4     Il contesto milanese , se da un lato è stato t...   \n",
       "...                                                 ...   \n",
       "8272                              Premio Elsa Morante .   \n",
       "8273  È nato il premio Elsa Morante che verrà assegn...   \n",
       "8274  Questo Premio che non avrà sede fissa né statu...   \n",
       "8275  sono promotori di l' iniziativa Patrizia Caval...   \n",
       "8276                                   Libri in campo .   \n",
       "\n",
       "                                               POS_Tags  \n",
       "0      DET NOUN ADP NOUN ADP NOUN ADP PROPN PROPN PUNCT  \n",
       "1     ADP DET ADJ NOUN DET NOUN ADP DET NOUN ADP NOU...  \n",
       "2     DET NOUN CCONJ DET NOUN ADP NOUN ADJ AUX ADV A...  \n",
       "3     DET ADJ AUX NOUN ADP NOUN ADJ ADP PRON DET NOU...  \n",
       "4     DET NOUN ADJ PUNCT SCONJ ADP DET NOUN AUX AUX ...  \n",
       "...                                                 ...  \n",
       "8272                             NOUN PROPN PROPN PUNCT  \n",
       "8273  AUX VERB DET NOUN PROPN PROPN PRON AUX VERB DE...  \n",
       "8274  DET PROPN PRON ADV VERB NOUN ADJ ADV NOUN ADV ...  \n",
       "8275  AUX NOUN ADP DET NOUN PROPN PROPN PUNCT PROPN ...  \n",
       "8276                                NOUN ADP NOUN PUNCT  \n",
       "\n",
       "[8277 rows x 2 columns]"
      ]
     },
     "execution_count": 3,
     "metadata": {},
     "output_type": "execute_result"
    }
   ],
   "source": [
    "train_df = read_conllu(\"data/UD_Italian-VIT-master/it_vit-ud-train.conllu\")\n",
    "train_df"
   ]
  },
  {
   "cell_type": "code",
   "execution_count": 4,
   "id": "75f37eb1",
   "metadata": {},
   "outputs": [
    {
     "data": {
      "text/html": [
       "<div>\n",
       "<style scoped>\n",
       "    .dataframe tbody tr th:only-of-type {\n",
       "        vertical-align: middle;\n",
       "    }\n",
       "\n",
       "    .dataframe tbody tr th {\n",
       "        vertical-align: top;\n",
       "    }\n",
       "\n",
       "    .dataframe thead th {\n",
       "        text-align: right;\n",
       "    }\n",
       "</style>\n",
       "<table border=\"1\" class=\"dataframe\">\n",
       "  <thead>\n",
       "    <tr style=\"text-align: right;\">\n",
       "      <th></th>\n",
       "      <th>Sentence</th>\n",
       "      <th>POS_Tags</th>\n",
       "    </tr>\n",
       "  </thead>\n",
       "  <tbody>\n",
       "    <tr>\n",
       "      <th>0</th>\n",
       "      <td>Non sono consentite assegnazioni provvisorie i...</td>\n",
       "      <td>ADV AUX VERB NOUN ADJ ADP DET NOUN ADP DET NOU...</td>\n",
       "    </tr>\n",
       "    <tr>\n",
       "      <th>1</th>\n",
       "      <td>È consentita inoltre la partecipazione provvis...</td>\n",
       "      <td>AUX VERB ADV DET NOUN ADJ ADV ADP DET ADJ NOUN...</td>\n",
       "    </tr>\n",
       "    <tr>\n",
       "      <th>2</th>\n",
       "      <td>I predetti motivi devono costituire oggetto di...</td>\n",
       "      <td>DET ADJ NOUN AUX VERB NOUN ADP NOUN PUNCT PRON...</td>\n",
       "    </tr>\n",
       "    <tr>\n",
       "      <th>3</th>\n",
       "      <td>In caso di ricongiungimento a il familiare des...</td>\n",
       "      <td>ADP NOUN ADP NOUN ADP DET NOUN VERB ADP ADJ NO...</td>\n",
       "    </tr>\n",
       "    <tr>\n",
       "      <th>4</th>\n",
       "      <td>A i fini di la possibilità di presentazione di...</td>\n",
       "      <td>ADP DET NOUN ADP DET NOUN ADP NOUN ADP DET NOU...</td>\n",
       "    </tr>\n",
       "    <tr>\n",
       "      <th>...</th>\n",
       "      <td>...</td>\n",
       "      <td>...</td>\n",
       "    </tr>\n",
       "    <tr>\n",
       "      <th>1062</th>\n",
       "      <td>Scrooge era il suo unico esecutore testamentar...</td>\n",
       "      <td>PROPN AUX DET DET ADJ NOUN ADJ PUNCT ADJ NOUN ...</td>\n",
       "    </tr>\n",
       "    <tr>\n",
       "      <th>1063</th>\n",
       "      <td>Anzi il nostro Scrooge , che per verità il tri...</td>\n",
       "      <td>CCONJ DET DET PROPN PUNCT PRON ADP NOUN DET AD...</td>\n",
       "    </tr>\n",
       "    <tr>\n",
       "      <th>1064</th>\n",
       "      <td>Il ricordo di i funerali mi fa tornare a il pu...</td>\n",
       "      <td>DET NOUN ADP DET NOUN PRON VERB VERB ADP DET N...</td>\n",
       "    </tr>\n",
       "    <tr>\n",
       "      <th>1065</th>\n",
       "      <td>Non c' è dunque dubbio che Marley era morto .</td>\n",
       "      <td>ADV PRON AUX ADV NOUN SCONJ PROPN AUX VERB PUNCT</td>\n",
       "    </tr>\n",
       "    <tr>\n",
       "      <th>1066</th>\n",
       "      <td>Questo mettiamo lo bene in sodo , se no niente...</td>\n",
       "      <td>PRON VERB PRON ADV ADP ADV PUNCT SCONJ ADV PRO...</td>\n",
       "    </tr>\n",
       "  </tbody>\n",
       "</table>\n",
       "<p>1067 rows × 2 columns</p>\n",
       "</div>"
      ],
      "text/plain": [
       "                                               Sentence  \\\n",
       "0     Non sono consentite assegnazioni provvisorie i...   \n",
       "1     È consentita inoltre la partecipazione provvis...   \n",
       "2     I predetti motivi devono costituire oggetto di...   \n",
       "3     In caso di ricongiungimento a il familiare des...   \n",
       "4     A i fini di la possibilità di presentazione di...   \n",
       "...                                                 ...   \n",
       "1062  Scrooge era il suo unico esecutore testamentar...   \n",
       "1063  Anzi il nostro Scrooge , che per verità il tri...   \n",
       "1064  Il ricordo di i funerali mi fa tornare a il pu...   \n",
       "1065      Non c' è dunque dubbio che Marley era morto .   \n",
       "1066  Questo mettiamo lo bene in sodo , se no niente...   \n",
       "\n",
       "                                               POS_Tags  \n",
       "0     ADV AUX VERB NOUN ADJ ADP DET NOUN ADP DET NOU...  \n",
       "1     AUX VERB ADV DET NOUN ADJ ADV ADP DET ADJ NOUN...  \n",
       "2     DET ADJ NOUN AUX VERB NOUN ADP NOUN PUNCT PRON...  \n",
       "3     ADP NOUN ADP NOUN ADP DET NOUN VERB ADP ADJ NO...  \n",
       "4     ADP DET NOUN ADP DET NOUN ADP NOUN ADP DET NOU...  \n",
       "...                                                 ...  \n",
       "1062  PROPN AUX DET DET ADJ NOUN ADJ PUNCT ADJ NOUN ...  \n",
       "1063  CCONJ DET DET PROPN PUNCT PRON ADP NOUN DET AD...  \n",
       "1064  DET NOUN ADP DET NOUN PRON VERB VERB ADP DET N...  \n",
       "1065   ADV PRON AUX ADV NOUN SCONJ PROPN AUX VERB PUNCT  \n",
       "1066  PRON VERB PRON ADV ADP ADV PUNCT SCONJ ADV PRO...  \n",
       "\n",
       "[1067 rows x 2 columns]"
      ]
     },
     "execution_count": 4,
     "metadata": {},
     "output_type": "execute_result"
    }
   ],
   "source": [
    "test_df = read_conllu(\"data/UD_Italian-VIT-master/it_vit-ud-test.conllu\")\n",
    "test_df"
   ]
  },
  {
   "cell_type": "code",
   "execution_count": 5,
   "id": "36b5e586",
   "metadata": {},
   "outputs": [
    {
     "data": {
      "text/html": [
       "<div>\n",
       "<style scoped>\n",
       "    .dataframe tbody tr th:only-of-type {\n",
       "        vertical-align: middle;\n",
       "    }\n",
       "\n",
       "    .dataframe tbody tr th {\n",
       "        vertical-align: top;\n",
       "    }\n",
       "\n",
       "    .dataframe thead th {\n",
       "        text-align: right;\n",
       "    }\n",
       "</style>\n",
       "<table border=\"1\" class=\"dataframe\">\n",
       "  <thead>\n",
       "    <tr style=\"text-align: right;\">\n",
       "      <th></th>\n",
       "      <th>Sentence</th>\n",
       "      <th>POS_Tags</th>\n",
       "    </tr>\n",
       "  </thead>\n",
       "  <tbody>\n",
       "    <tr>\n",
       "      <th>0</th>\n",
       "      <td>Ha l' acqua calda , più o meno si veste .</td>\n",
       "      <td>VERB DET NOUN ADJ PUNCT ADV CCONJ ADV PRON VER...</td>\n",
       "    </tr>\n",
       "    <tr>\n",
       "      <th>1</th>\n",
       "      <td>malgrado le guerre e i disastri naturali e pol...</td>\n",
       "      <td>ADP DET NOUN CCONJ DET NOUN ADJ CCONJ ADJ PUNC...</td>\n",
       "    </tr>\n",
       "    <tr>\n",
       "      <th>2</th>\n",
       "      <td>È come un' energia che sta crescendo complessi...</td>\n",
       "      <td>AUX ADP NUM NOUN PRON AUX VERB ADV PUNCT PUNCT</td>\n",
       "    </tr>\n",
       "    <tr>\n",
       "      <th>3</th>\n",
       "      <td>L' onorevole Charles Rose , deputato democrati...</td>\n",
       "      <td>DET NOUN PROPN PROPN PUNCT NOUN ADJ ADP DET PR...</td>\n",
       "    </tr>\n",
       "    <tr>\n",
       "      <th>4</th>\n",
       "      <td>Da qualche tempo , la sua espressione preferit...</td>\n",
       "      <td>ADP DET ADV PUNCT DET DET NOUN ADJ AUX VERB PUNCT</td>\n",
       "    </tr>\n",
       "    <tr>\n",
       "      <th>...</th>\n",
       "      <td>...</td>\n",
       "      <td>...</td>\n",
       "    </tr>\n",
       "    <tr>\n",
       "      <th>738</th>\n",
       "      <td>Le gravi esigenze di salute di l' aspirante a ...</td>\n",
       "      <td>DET ADJ NOUN ADP NOUN ADP DET NOUN ADP DET NOU...</td>\n",
       "    </tr>\n",
       "    <tr>\n",
       "      <th>739</th>\n",
       "      <td>Possono chiedere l' assegnazione provvisoria ,...</td>\n",
       "      <td>AUX VERB DET NOUN ADJ PUNCT ADV ADP DET NOUN A...</td>\n",
       "    </tr>\n",
       "    <tr>\n",
       "      <th>740</th>\n",
       "      <td>La relativa domanda va formulata contestualmen...</td>\n",
       "      <td>DET ADJ NOUN AUX VERB ADV ADP PRON ADP NOUN PU...</td>\n",
       "    </tr>\n",
       "    <tr>\n",
       "      <th>741</th>\n",
       "      <td>Possono partecipare a il movimento di le asseg...</td>\n",
       "      <td>AUX VERB ADP DET NOUN ADP DET NOUN ADJ ADV DET...</td>\n",
       "    </tr>\n",
       "    <tr>\n",
       "      <th>742</th>\n",
       "      <td>Gli insegnanti di cui a il precedente art. 59 ...</td>\n",
       "      <td>DET NOUN ADP PRON ADP DET ADJ NOUN NUM AUX VER...</td>\n",
       "    </tr>\n",
       "  </tbody>\n",
       "</table>\n",
       "<p>743 rows × 2 columns</p>\n",
       "</div>"
      ],
      "text/plain": [
       "                                              Sentence  \\\n",
       "0            Ha l' acqua calda , più o meno si veste .   \n",
       "1    malgrado le guerre e i disastri naturali e pol...   \n",
       "2    È come un' energia che sta crescendo complessi...   \n",
       "3    L' onorevole Charles Rose , deputato democrati...   \n",
       "4    Da qualche tempo , la sua espressione preferit...   \n",
       "..                                                 ...   \n",
       "738  Le gravi esigenze di salute di l' aspirante a ...   \n",
       "739  Possono chiedere l' assegnazione provvisoria ,...   \n",
       "740  La relativa domanda va formulata contestualmen...   \n",
       "741  Possono partecipare a il movimento di le asseg...   \n",
       "742  Gli insegnanti di cui a il precedente art. 59 ...   \n",
       "\n",
       "                                              POS_Tags  \n",
       "0    VERB DET NOUN ADJ PUNCT ADV CCONJ ADV PRON VER...  \n",
       "1    ADP DET NOUN CCONJ DET NOUN ADJ CCONJ ADJ PUNC...  \n",
       "2       AUX ADP NUM NOUN PRON AUX VERB ADV PUNCT PUNCT  \n",
       "3    DET NOUN PROPN PROPN PUNCT NOUN ADJ ADP DET PR...  \n",
       "4    ADP DET ADV PUNCT DET DET NOUN ADJ AUX VERB PUNCT  \n",
       "..                                                 ...  \n",
       "738  DET ADJ NOUN ADP NOUN ADP DET NOUN ADP DET NOU...  \n",
       "739  AUX VERB DET NOUN ADJ PUNCT ADV ADP DET NOUN A...  \n",
       "740  DET ADJ NOUN AUX VERB ADV ADP PRON ADP NOUN PU...  \n",
       "741  AUX VERB ADP DET NOUN ADP DET NOUN ADJ ADV DET...  \n",
       "742  DET NOUN ADP PRON ADP DET ADJ NOUN NUM AUX VER...  \n",
       "\n",
       "[743 rows x 2 columns]"
      ]
     },
     "execution_count": 5,
     "metadata": {},
     "output_type": "execute_result"
    }
   ],
   "source": [
    "dev_df = read_conllu(\"data/UD_Italian-VIT-master/it_vit-ud-dev.conllu\")\n",
    "dev_df"
   ]
  },
  {
   "cell_type": "code",
   "execution_count": 6,
   "id": "89794f97",
   "metadata": {},
   "outputs": [],
   "source": [
    "def calculate_word_upper_boundary(df, column_name):\n",
    "   \n",
    "    df['Sentence_Length'] = df[column_name].apply(lambda x: len(x.split()))\n",
    "    Q1 = df['Sentence_Length'].quantile(0.25)\n",
    "    Q3 = df['Sentence_Length'].quantile(0.75)\n",
    "    IQR = Q3 - Q1\n",
    "    upper_boundary = Q3 + 1.5 * IQR\n",
    "\n",
    "    return upper_boundary"
   ]
  },
  {
   "cell_type": "code",
   "execution_count": 7,
   "id": "3625cb6f",
   "metadata": {},
   "outputs": [
    {
     "name": "stdout",
     "output_type": "stream",
     "text": [
      "Upper Boundary for Words in a Sentence: 73.0\n"
     ]
    }
   ],
   "source": [
    "upper_boundary = calculate_word_upper_boundary(train_df, 'Sentence')\n",
    "\n",
    "# Display the result\n",
    "print(\"Upper Boundary for Words in a Sentence:\", upper_boundary)"
   ]
  },
  {
   "cell_type": "code",
   "execution_count": 8,
   "id": "f8ef5d97",
   "metadata": {},
   "outputs": [],
   "source": [
    "train_df['Sentence_Length'] = train_df['Sentence'].apply(lambda x: len(x.split()))\n",
    "train_df = train_df[train_df['Sentence_Length'] <= 80]\n",
    "test_df['Sentence_Length'] = test_df['Sentence'].apply(lambda x: len(x.split()))\n",
    "test_df = test_df[test_df['Sentence_Length'] <= 80]\n",
    "dev_df['Sentence_Length'] = dev_df['Sentence'].apply(lambda x: len(x.split()))\n",
    "dev_df = dev_df[dev_df['Sentence_Length'] <= 80]\n",
    "train_df.drop(axis=1,columns = ['Sentence_Length'], inplace = True)\n",
    "test_df.drop(axis=1,columns = ['Sentence_Length'], inplace = True)\n",
    "dev_df.drop(axis=1,columns = ['Sentence_Length'], inplace = True)"
   ]
  },
  {
   "cell_type": "code",
   "execution_count": 9,
   "id": "5ca76442",
   "metadata": {},
   "outputs": [],
   "source": [
    "X_train = train_df['Sentence'].apply(lambda x: x.split()).tolist()\n",
    "y_train = train_df['POS_Tags'].apply(lambda x: x.split()).tolist()\n",
    "X_test = test_df['Sentence'].apply(lambda x: x.split()).tolist()\n",
    "y_test = test_df['POS_Tags'].apply(lambda x: x.split()).tolist()\n",
    "X_dev = dev_df['Sentence'].apply(lambda x: x.split()).tolist()\n",
    "y_dev = dev_df['POS_Tags'].apply(lambda x: x.split()).tolist()"
   ]
  },
  {
   "cell_type": "code",
   "execution_count": 10,
   "id": "47231216",
   "metadata": {},
   "outputs": [
    {
     "name": "stdout",
     "output_type": "stream",
     "text": [
      "Unique Elements: ['PRON', 'CCONJ', 'SCONJ', 'PUNCT', 'AUX', 'NUM', 'ADJ', 'DET', 'NOUN', 'VERB', 'INTJ', 'PROPN', 'ADV', 'X', 'ADP']\n"
     ]
    }
   ],
   "source": [
    "unique_elements = set(element for sublist in y_train for element in sublist)\n",
    "unique_elements_list = list(unique_elements)\n",
    "print(\"Unique Elements:\", unique_elements_list)"
   ]
  },
  {
   "cell_type": "code",
   "execution_count": 11,
   "id": "1baa6d99",
   "metadata": {},
   "outputs": [
    {
     "name": "stdout",
     "output_type": "stream",
     "text": [
      "Unique Elements: ['PRON', 'CCONJ', 'NUM', 'PUNCT', 'AUX', 'SCONJ', 'ADJ', 'DET', 'VERB', 'NOUN', 'INTJ', 'PROPN', 'ADV', 'X', 'ADP']\n"
     ]
    }
   ],
   "source": [
    "unique_elements = set(element for sublist in y_dev for element in sublist)\n",
    "unique_elements_list = list(unique_elements)\n",
    "print(\"Unique Elements:\", unique_elements_list)"
   ]
  },
  {
   "cell_type": "code",
   "execution_count": 12,
   "id": "700283e7",
   "metadata": {},
   "outputs": [
    {
     "name": "stdout",
     "output_type": "stream",
     "text": [
      "sample X_train:  ['Le', 'infrastrutture', 'come', 'fattore', 'di', 'competitività', 'di', 'Angela', 'Airoldi', '.'] \n",
      "\n",
      "sample y_train:  ['DET', 'NOUN', 'ADP', 'NOUN', 'ADP', 'NOUN', 'ADP', 'PROPN', 'PROPN', 'PUNCT'] \n",
      "\n"
     ]
    }
   ],
   "source": [
    "print('sample X_train: ', X_train[0], '\\n')\n",
    "print('sample y_train: ', y_train[0], '\\n')"
   ]
  },
  {
   "cell_type": "code",
   "execution_count": 13,
   "id": "4da69fc3",
   "metadata": {},
   "outputs": [
    {
     "name": "stdout",
     "output_type": "stream",
     "text": [
      "** Raw data point ** \n",
      " ---------------------------------------------------------------------------------------------------- \n",
      "\n",
      "X:  ['Le', 'infrastrutture', 'come', 'fattore', 'di', 'competitività', 'di', 'Angela', 'Airoldi', '.'] \n",
      "\n",
      "Y:  ['DET', 'NOUN', 'ADP', 'NOUN', 'ADP', 'NOUN', 'ADP', 'PROPN', 'PROPN', 'PUNCT'] \n",
      "\n",
      "\n",
      "** Encoded data point ** \n",
      " ---------------------------------------------------------------------------------------------------- \n",
      "\n",
      "X:  [12, 1835, 36, 3660, 2, 2801, 2, 10163, 10164, 5] \n",
      "\n",
      "Y:  [3, 1, 2, 1, 2, 1, 2, 7, 7, 4] \n",
      "\n"
     ]
    }
   ],
   "source": [
    "word_tokenizer = Tokenizer(oov_token='__UNK__')              # instantiate tokeniser\n",
    "word_tokenizer.fit_on_texts(X_train)            # fit tokeniser on data\n",
    "# use the tokeniser to encode input sequence\n",
    "X_train_encoded = word_tokenizer.texts_to_sequences(X_train)\n",
    "X_test_encoded = word_tokenizer.texts_to_sequences(X_test)\n",
    "X_dev_encoded = word_tokenizer.texts_to_sequences(X_dev)\n",
    "# encode Y\n",
    "tag_tokenizer = Tokenizer()\n",
    "tag_tokenizer.fit_on_texts(y_train)\n",
    "y_train_encoded = tag_tokenizer.texts_to_sequences(y_train)\n",
    "y_test_encoded = tag_tokenizer.texts_to_sequences(y_test)\n",
    "y_dev_encoded = tag_tokenizer.texts_to_sequences(y_dev)\n",
    "# look at first encoded data point\n",
    "print(\"** Raw data point **\", \"\\n\", \"-\"*100, \"\\n\")\n",
    "print('X: ', X_train[0], '\\n')\n",
    "print('Y: ', y_train[0], '\\n')\n",
    "print()\n",
    "print(\"** Encoded data point **\", \"\\n\", \"-\"*100, \"\\n\")\n",
    "print('X: ', X_train_encoded[0], '\\n')\n",
    "print('Y: ', y_train_encoded[0], '\\n')"
   ]
  },
  {
   "cell_type": "code",
   "execution_count": 14,
   "id": "248ae1ad",
   "metadata": {},
   "outputs": [
    {
     "name": "stdout",
     "output_type": "stream",
     "text": [
      "[   12  1835    36  3660     2  2801     2 10163 10164     5     0     0\n",
      "     0     0     0     0     0     0     0     0     0     0     0     0\n",
      "     0     0     0     0     0     0     0     0     0     0     0     0\n",
      "     0     0     0     0     0     0     0     0     0     0     0     0\n",
      "     0     0     0     0     0     0     0     0     0     0     0     0\n",
      "     0     0     0     0     0     0     0     0     0     0     0     0\n",
      "     0     0     0     0     0     0     0     0] \n",
      "\n",
      "\n",
      "\n",
      "[3 1 2 1 2 1 2 7 7 4 0 0 0 0 0 0 0 0 0 0 0 0 0 0 0 0 0 0 0 0 0 0 0 0 0 0 0\n",
      " 0 0 0 0 0 0 0 0 0 0 0 0 0 0 0 0 0 0 0 0 0 0 0 0 0 0 0 0 0 0 0 0 0 0 0 0 0\n",
      " 0 0 0 0 0 0]\n"
     ]
    }
   ],
   "source": [
    "MAX_SEQ_LENGTH = 80\n",
    "X_train_padded = pad_sequences(X_train_encoded, maxlen=MAX_SEQ_LENGTH, padding=\"post\")\n",
    "y_train_padded = pad_sequences(y_train_encoded, maxlen=MAX_SEQ_LENGTH, padding=\"post\")\n",
    "X_test_padded = pad_sequences(X_test_encoded, maxlen=MAX_SEQ_LENGTH, padding=\"post\")\n",
    "y_test_padded = pad_sequences(y_test_encoded, maxlen=MAX_SEQ_LENGTH, padding=\"post\")\n",
    "X_dev_padded = pad_sequences(X_dev_encoded, maxlen=MAX_SEQ_LENGTH, padding=\"post\")\n",
    "y_dev_padded = pad_sequences(y_dev_encoded, maxlen=MAX_SEQ_LENGTH, padding=\"post\")\n",
    "# print the first sequence\n",
    "print(X_train_padded[0], \"\\n\"*3)\n",
    "print(y_train_padded[0])"
   ]
  },
  {
   "cell_type": "code",
   "execution_count": 15,
   "id": "0b68a7ac",
   "metadata": {},
   "outputs": [],
   "source": [
    "fasttext.util.download_model('it', if_exists='ignore')  # Italian\n",
    "ft = fasttext.load_model('cc.it.300.bin')"
   ]
  },
  {
   "cell_type": "code",
   "execution_count": 16,
   "id": "2affcee7",
   "metadata": {},
   "outputs": [],
   "source": [
    "EMBEDDING_SIZE  = 300  \n",
    "VOCABULARY_SIZE = len(word_tokenizer.word_index) + 1\n",
    "embedding_weights = np.zeros((VOCABULARY_SIZE, EMBEDDING_SIZE))\n",
    "word2id = word_tokenizer.word_index\n",
    "for word, index in word2id.items():\n",
    "    try:\n",
    "        embedding_weights[index, :] = ft[word]\n",
    "    except KeyError:\n",
    "        pass"
   ]
  },
  {
   "cell_type": "code",
   "execution_count": 17,
   "id": "0f3332ec",
   "metadata": {},
   "outputs": [
    {
     "data": {
      "text/plain": [
       "300"
      ]
     },
     "execution_count": 17,
     "metadata": {},
     "output_type": "execute_result"
    }
   ],
   "source": [
    "embedding_weights.shape[1]"
   ]
  },
  {
   "cell_type": "code",
   "execution_count": 18,
   "id": "3d0fe77d",
   "metadata": {},
   "outputs": [
    {
     "data": {
      "text/plain": [
       "20584"
      ]
     },
     "execution_count": 18,
     "metadata": {},
     "output_type": "execute_result"
    }
   ],
   "source": [
    "embedding_weights.shape[0]"
   ]
  },
  {
   "cell_type": "code",
   "execution_count": 19,
   "id": "e71b02a0",
   "metadata": {},
   "outputs": [],
   "source": [
    "from tensorflow.keras.utils import to_categorical\n",
    "\n",
    "max_class_index = np.max(y_train_padded)\n",
    "\n",
    "# Convert non-zero elements to categorical\n",
    "num_classes = max_class_index +1\n",
    "y_train = to_categorical(y_train_padded, num_classes=num_classes)\n",
    "y_test = to_categorical(y_test_padded, num_classes=num_classes)\n",
    "y_dev = to_categorical(y_dev_padded, num_classes=num_classes)"
   ]
  },
  {
   "cell_type": "code",
   "execution_count": 20,
   "id": "f2ebbd66",
   "metadata": {},
   "outputs": [
    {
     "data": {
      "text/plain": [
       "16"
      ]
     },
     "execution_count": 20,
     "metadata": {},
     "output_type": "execute_result"
    }
   ],
   "source": [
    "y_train.shape[2]"
   ]
  },
  {
   "cell_type": "code",
   "execution_count": 21,
   "id": "e51e86a5",
   "metadata": {},
   "outputs": [],
   "source": [
    "dict_match = {}\n",
    "for i in range(8158):\n",
    "    for j in range(len(train_df.iloc[i,1].split())):\n",
    "        dict_match[train_df.iloc[i,1].split()[j]] = y_train[i,j]\n",
    "    \n",
    "modified_dict = {key: np.argmax(value,-1) for key, value in dict_match.items()}\n",
    "\n",
    "def create_reverse_dict(dictionary):\n",
    "    reverse_dict = {v: k for k, v in dictionary.items()}\n",
    "    return reverse_dict\n",
    "\n",
    "modified_dict_1 = create_reverse_dict(modified_dict)"
   ]
  },
  {
   "cell_type": "code",
   "execution_count": 22,
   "id": "1037c5d9",
   "metadata": {},
   "outputs": [
    {
     "data": {
      "text/plain": [
       "16"
      ]
     },
     "execution_count": 22,
     "metadata": {},
     "output_type": "execute_result"
    }
   ],
   "source": [
    "NUM_CLASSES = y_train.shape[2]\n",
    "NUM_CLASSES"
   ]
  },
  {
   "cell_type": "code",
   "execution_count": 23,
   "id": "0f2371f0",
   "metadata": {},
   "outputs": [],
   "source": [
    "def evaluate_model(X, y, model,set_name):\n",
    "    y_pred_1 = model.predict(X)\n",
    "    y_pred = np.argmax(y_pred_1, axis=-1)\n",
    "    y_pred = y_pred.flatten()\n",
    "    y_true = np.argmax(y, axis=-1)\n",
    "    y_true = y_true.flatten()\n",
    "    valid_labels = [label for label in y_true if label != 0]\n",
    "    valid_predictions = [pred for true, pred in zip(y_true, y_pred) if true != 0]\n",
    "\n",
    "    print(f\"-----------Predection Scores for {set_name}-----------\")\n",
    "    # Create a classification report\n",
    "    report = classification_report(valid_labels, valid_predictions, target_names=[modified_dict_1[i] for i in range(1, 16)])\n",
    "    print(report)\n",
    "\n",
    "    \n",
    "    y_pred_labels = np.argmax(y_pred_1, axis=1)\n",
    "    precision = dict()\n",
    "    recall = dict()\n",
    "    pr_auc = dict()\n",
    "    max_prob_indices = np.argmax(y_pred_1, axis=2)\n",
    "    # Create a binary matrix with 1s where the highest probability is and 0s elsewhere\n",
    "    y_pred_2 = np.zeros_like(y_pred_1)\n",
    "    for i in range(y_pred_1.shape[0]):\n",
    "        for j in range(y_pred_1.shape[1]):\n",
    "            y_pred_2[i, j, max_prob_indices[i, j]] = 1\n",
    "            \n",
    "            \n",
    "    for i in range(1,16):\n",
    "        precision[i], recall[i], _ = precision_recall_curve(y[:,:,i].flatten(), y_pred_2[:,:,i].flatten())\n",
    "        pr_auc[i] = auc(recall[i], precision[i])\n",
    "\n",
    "    # Step 3: Print or use the calculated scores for each class\n",
    "    for i in range(1,16):\n",
    "        print(f\"Class {modified_dict_1[i]} - AUC-PR: {pr_auc[i]}\")\n",
    "\n",
    "    # Step 4: Calculate macro AUC-PR\n",
    "    all_recall = np.unique(np.concatenate([recall[i] for i in range(1,16)]))\n",
    "    mean_precision = np.zeros_like(all_recall)\n",
    "    for i in range(1,16):\n",
    "        mean_precision += np.interp(all_recall, recall[i][::-1], precision[i][::-1])\n",
    "    mean_precision /= num_classes\n",
    "    macro_pr_auc = auc(all_recall, mean_precision)\n",
    "\n",
    "    # Step 5: Print or use the calculated macro AUC-PR\n",
    "    print(f\"Macro AUC-PR: {macro_pr_auc}\")\n",
    "    return"
   ]
  },
  {
   "cell_type": "code",
   "execution_count": 24,
   "id": "7e5a9ca3",
   "metadata": {},
   "outputs": [
    {
     "name": "stdout",
     "output_type": "stream",
     "text": [
      "WARNING:tensorflow:From C:\\Users\\vassi\\anaconda3\\Lib\\site-packages\\keras\\src\\backend.py:873: The name tf.get_default_graph is deprecated. Please use tf.compat.v1.get_default_graph instead.\n",
      "\n",
      "Model: \"sequential\"\n",
      "_________________________________________________________________\n",
      " Layer (type)                Output Shape              Param #   \n",
      "=================================================================\n",
      " embedding (Embedding)       (None, 80, 300)           6175200   \n",
      "                                                                 \n",
      " conv1d (Conv1D)             (None, 80, 300)           270300    \n",
      "                                                                 \n",
      " conv1d_1 (Conv1D)           (None, 80, 300)           270300    \n",
      "                                                                 \n",
      " conv1d_2 (Conv1D)           (None, 80, 300)           270300    \n",
      "                                                                 \n",
      " conv1d_3 (Conv1D)           (None, 80, 300)           270300    \n",
      "                                                                 \n",
      " conv1d_4 (Conv1D)           (None, 80, 300)           270300    \n",
      "                                                                 \n",
      " dense (Dense)               (None, 80, 16)            4816      \n",
      "                                                                 \n",
      "=================================================================\n",
      "Total params: 7531516 (28.73 MB)\n",
      "Trainable params: 1356316 (5.17 MB)\n",
      "Non-trainable params: 6175200 (23.56 MB)\n",
      "_________________________________________________________________\n",
      "None\n",
      "Epoch 1/10\n",
      "WARNING:tensorflow:From C:\\Users\\vassi\\anaconda3\\Lib\\site-packages\\keras\\src\\utils\\tf_utils.py:492: The name tf.ragged.RaggedTensorValue is deprecated. Please use tf.compat.v1.ragged.RaggedTensorValue instead.\n",
      "\n",
      "WARNING:tensorflow:From C:\\Users\\vassi\\anaconda3\\Lib\\site-packages\\keras\\src\\engine\\base_layer_utils.py:384: The name tf.executing_eagerly_outside_functions is deprecated. Please use tf.compat.v1.executing_eagerly_outside_functions instead.\n",
      "\n",
      "128/128 [==============================] - ETA: 0s - loss: 0.3899 - accuracy: 0.9007INFO:tensorflow:Assets written to: /content/checkpoints\\keras_CNN_model\\assets\n"
     ]
    },
    {
     "name": "stderr",
     "output_type": "stream",
     "text": [
      "INFO:tensorflow:Assets written to: /content/checkpoints\\keras_CNN_model\\assets\n"
     ]
    },
    {
     "name": "stdout",
     "output_type": "stream",
     "text": [
      "128/128 [==============================] - 12s 85ms/step - loss: 0.3899 - accuracy: 0.9007 - val_loss: 0.1528 - val_accuracy: 0.9552\n",
      "Epoch 2/10\n",
      "127/128 [============================>.] - ETA: 0s - loss: 0.0763 - accuracy: 0.9771INFO:tensorflow:Assets written to: /content/checkpoints\\keras_CNN_model\\assets\n"
     ]
    },
    {
     "name": "stderr",
     "output_type": "stream",
     "text": [
      "INFO:tensorflow:Assets written to: /content/checkpoints\\keras_CNN_model\\assets\n"
     ]
    },
    {
     "name": "stdout",
     "output_type": "stream",
     "text": [
      "128/128 [==============================] - 10s 80ms/step - loss: 0.0763 - accuracy: 0.9771 - val_loss: 0.1081 - val_accuracy: 0.9676\n",
      "Epoch 3/10\n",
      "128/128 [==============================] - ETA: 0s - loss: 0.0532 - accuracy: 0.9842INFO:tensorflow:Assets written to: /content/checkpoints\\keras_CNN_model\\assets\n"
     ]
    },
    {
     "name": "stderr",
     "output_type": "stream",
     "text": [
      "INFO:tensorflow:Assets written to: /content/checkpoints\\keras_CNN_model\\assets\n"
     ]
    },
    {
     "name": "stdout",
     "output_type": "stream",
     "text": [
      "128/128 [==============================] - 10s 82ms/step - loss: 0.0532 - accuracy: 0.9842 - val_loss: 0.0953 - val_accuracy: 0.9712\n",
      "Epoch 4/10\n",
      "127/128 [============================>.] - ETA: 0s - loss: 0.0430 - accuracy: 0.9872INFO:tensorflow:Assets written to: /content/checkpoints\\keras_CNN_model\\assets\n"
     ]
    },
    {
     "name": "stderr",
     "output_type": "stream",
     "text": [
      "INFO:tensorflow:Assets written to: /content/checkpoints\\keras_CNN_model\\assets\n"
     ]
    },
    {
     "name": "stdout",
     "output_type": "stream",
     "text": [
      "128/128 [==============================] - 11s 82ms/step - loss: 0.0430 - accuracy: 0.9872 - val_loss: 0.0961 - val_accuracy: 0.9714\n",
      "Epoch 5/10\n",
      "128/128 [==============================] - 10s 74ms/step - loss: 0.0357 - accuracy: 0.9892 - val_loss: 0.0998 - val_accuracy: 0.9690\n",
      "Epoch 6/10\n",
      "127/128 [============================>.] - ETA: 0s - loss: 0.0306 - accuracy: 0.9908INFO:tensorflow:Assets written to: /content/checkpoints\\keras_CNN_model\\assets\n"
     ]
    },
    {
     "name": "stderr",
     "output_type": "stream",
     "text": [
      "INFO:tensorflow:Assets written to: /content/checkpoints\\keras_CNN_model\\assets\n"
     ]
    },
    {
     "name": "stdout",
     "output_type": "stream",
     "text": [
      "128/128 [==============================] - 10s 81ms/step - loss: 0.0306 - accuracy: 0.9908 - val_loss: 0.0981 - val_accuracy: 0.9719\n",
      "Epoch 7/10\n",
      "127/128 [============================>.] - ETA: 0s - loss: 0.0270 - accuracy: 0.9917INFO:tensorflow:Assets written to: /content/checkpoints\\keras_CNN_model\\assets\n"
     ]
    },
    {
     "name": "stderr",
     "output_type": "stream",
     "text": [
      "INFO:tensorflow:Assets written to: /content/checkpoints\\keras_CNN_model\\assets\n"
     ]
    },
    {
     "name": "stdout",
     "output_type": "stream",
     "text": [
      "128/128 [==============================] - 14s 108ms/step - loss: 0.0270 - accuracy: 0.9917 - val_loss: 0.0967 - val_accuracy: 0.9722\n",
      "Epoch 8/10\n",
      "128/128 [==============================] - 13s 100ms/step - loss: 0.0236 - accuracy: 0.9926 - val_loss: 0.1010 - val_accuracy: 0.9692\n",
      "Epoch 9/10\n",
      "128/128 [==============================] - 13s 103ms/step - loss: 0.0203 - accuracy: 0.9936 - val_loss: 0.1015 - val_accuracy: 0.9721\n",
      "Epoch 10/10\n",
      "128/128 [==============================] - 14s 106ms/step - loss: 0.0180 - accuracy: 0.9942 - val_loss: 0.1184 - val_accuracy: 0.9693\n"
     ]
    }
   ],
   "source": [
    "import os\n",
    "import tensorflow as tf\n",
    "from tensorflow.keras.models import Sequential\n",
    "from tensorflow.keras.layers import Embedding, TimeDistributed, Dense,  Dropout, Conv1D,GlobalMaxPooling1D,RepeatVector\n",
    "\n",
    "\n",
    "MAX_SEQUENCE_LENGTH = 80\n",
    "FILTERS = 300  # the dimensionality of the output space (i.e. the number of output filters in the convolution)\n",
    "KERNEL = 3  # the length of the 1D convolution window\n",
    "\n",
    "\n",
    "# create empty sequential model\n",
    "model = tf.keras.Sequential()\n",
    "model.add(tf.keras.layers.Embedding(input_dim=VOCABULARY_SIZE, # Size of the vocabulary, i.e. maximum integer index + 1\n",
    "                                    output_dim=EMBEDDING_SIZE,\n",
    "                                    weights=[embedding_weights],\n",
    "                                    input_length=MAX_SEQUENCE_LENGTH,\n",
    "                                    mask_zero=True,\n",
    "                                    trainable=False))\n",
    "model.add(tf.keras.layers.Conv1D(filters=FILTERS, kernel_size=KERNEL,\n",
    "                                 activation='relu', padding='same'))\n",
    "model.add(tf.keras.layers.Conv1D(filters=FILTERS, kernel_size=KERNEL,\n",
    "                                 activation='relu', padding='same'))\n",
    "model.add(tf.keras.layers.Conv1D(filters=FILTERS, kernel_size=KERNEL,\n",
    "                                 activation='relu', padding='same'))\n",
    "model.add(tf.keras.layers.Conv1D(filters=FILTERS, kernel_size=KERNEL,\n",
    "                                 activation='relu', padding='same'))\n",
    "model.add(tf.keras.layers.Conv1D(filters=FILTERS, kernel_size=KERNEL,\n",
    "                                 activation='relu', padding='same'))\n",
    "model.add(Dense(NUM_CLASSES, activation='softmax'))\n",
    "\n",
    "print(model.summary())\n",
    "# Compile the model\n",
    "model.compile(loss='categorical_crossentropy', metrics=['accuracy'],\n",
    "              optimizer=tf.keras.optimizers.Adam())\n",
    "checkpoint = tf.keras.callbacks.ModelCheckpoint(\n",
    "    '/content/checkpoints/keras_CNN_model', monitor='val_accuracy',\n",
    "    save_best_only=True, mode='max'\n",
    "    )\n",
    "history = model.fit(X_train_padded, y_train,\n",
    "              batch_size=64,\n",
    "              epochs=10,\n",
    "              verbose = 1,\n",
    "              callbacks=[checkpoint],\n",
    "              validation_data=(X_dev_padded, y_dev),\n",
    "              shuffle=True)"
   ]
  },
  {
   "cell_type": "markdown",
   "id": "2cacb63c",
   "metadata": {},
   "source": [
    "## Hyperparameter Tuning"
   ]
  },
  {
   "cell_type": "code",
   "execution_count": 25,
   "id": "26778cec",
   "metadata": {},
   "outputs": [],
   "source": [
    "def build_model(hp):\n",
    "    \n",
    "    MAX_SEQUENCE_LENGTH = 80\n",
    "    FILTERS = 300  # the dimensionality of the output space (i.e. the number of output filters in the convolution)\n",
    "    KERNEL = 3  # the length of the 1D convolution window\n",
    "\n",
    "    model = Sequential()\n",
    "    model.add(Embedding(input_dim = VOCABULARY_SIZE,\n",
    "     output_dim = EMBEDDING_SIZE,\n",
    "     input_length = MAX_SEQ_LENGTH,\n",
    "     weights = [embedding_weights],\n",
    "     trainable = False))\n",
    "    \n",
    "    \n",
    "    for i in range(hp.Int(name='num_layers',min_value=1,max_value=5)):\n",
    "        model.add(tf.keras.layers.Conv1D(filters=FILTERS, kernel_size=hp.Choice(name='kernel_'+str(i),values=[2,3,4]),\n",
    "                                                                                activation='relu', padding='same'))\n",
    "        model.add(Dropout(hp.Choice(name='dropout_layer_'+str(i),values=[0.1,0.2,0.3,0.4,0.5])))\n",
    "    model.add(Dense(NUM_CLASSES, activation='softmax'))\n",
    "    \n",
    "    \n",
    "    hp_learning_rate = hp.Choice('learning_rate', values=[1e-3, 1e-4])\n",
    "    model.compile(loss='categorical_crossentropy',\n",
    "              optimizer = Adam(learning_rate=hp_learning_rate),\n",
    "              metrics=['acc'])\n",
    "\n",
    "    return model"
   ]
  },
  {
   "cell_type": "code",
   "execution_count": 26,
   "id": "bee188f2",
   "metadata": {},
   "outputs": [
    {
     "name": "stdout",
     "output_type": "stream",
     "text": [
      "Search space summary\n",
      "Default search space size: 4\n",
      "num_layers (Int)\n",
      "{'default': None, 'conditions': [], 'min_value': 1, 'max_value': 5, 'step': 1, 'sampling': 'linear'}\n",
      "kernel_0 (Choice)\n",
      "{'default': 2, 'conditions': [], 'values': [2, 3, 4], 'ordered': True}\n",
      "dropout_layer_0 (Choice)\n",
      "{'default': 0.1, 'conditions': [], 'values': [0.1, 0.2, 0.3, 0.4, 0.5], 'ordered': True}\n",
      "learning_rate (Choice)\n",
      "{'default': 0.001, 'conditions': [], 'values': [0.001, 0.0001], 'ordered': True}\n"
     ]
    }
   ],
   "source": [
    "import keras_tuner as kt\n",
    "from tensorflow.keras.callbacks import EarlyStopping\n",
    "from tensorflow.keras.optimizers import Adam\n",
    "\n",
    "\n",
    "tuner = kt.RandomSearch(build_model,\n",
    "                        objective=kt.Objective('val_acc',\n",
    "                                               direction='max'),\n",
    "                        max_trials=20,\n",
    "                        directory='KT_directory',\n",
    "                        project_name='KT_tuning')\n",
    "early_stopping = EarlyStopping(\n",
    "    monitor='val_loss', patience=10)\n",
    "tuner.search_space_summary()"
   ]
  },
  {
   "cell_type": "code",
   "execution_count": 27,
   "id": "e4ec2f9f",
   "metadata": {},
   "outputs": [
    {
     "name": "stdout",
     "output_type": "stream",
     "text": [
      "Trial 20 Complete [00h 01m 53s]\n",
      "val_acc: 0.9746964573860168\n",
      "\n",
      "Best val_acc So Far: 0.9769464135169983\n",
      "Total elapsed time: 01h 49m 41s\n"
     ]
    }
   ],
   "source": [
    "tuner.search(X_train_padded, y_train,\n",
    "             validation_data=(X_dev_padded, y_dev), epochs=50, batch_size = 64,\n",
    "             callbacks=[early_stopping])"
   ]
  },
  {
   "cell_type": "code",
   "execution_count": 28,
   "id": "10defef3",
   "metadata": {},
   "outputs": [
    {
     "name": "stdout",
     "output_type": "stream",
     "text": [
      "Results summary\n",
      "Results in KT_directory\\KT_tuning\n",
      "Showing 10 best trials\n",
      "Objective(name=\"val_acc\", direction=\"max\")\n",
      "\n",
      "Trial 17 summary\n",
      "Hyperparameters:\n",
      "num_layers: 3\n",
      "kernel_0: 2\n",
      "dropout_layer_0: 0.2\n",
      "learning_rate: 0.0001\n",
      "kernel_1: 4\n",
      "dropout_layer_1: 0.3\n",
      "kernel_2: 4\n",
      "dropout_layer_2: 0.2\n",
      "kernel_3: 3\n",
      "dropout_layer_3: 0.1\n",
      "kernel_4: 3\n",
      "dropout_layer_4: 0.4\n",
      "Score: 0.9769464135169983\n",
      "\n",
      "Trial 16 summary\n",
      "Hyperparameters:\n",
      "num_layers: 2\n",
      "kernel_0: 4\n",
      "dropout_layer_0: 0.4\n",
      "learning_rate: 0.001\n",
      "kernel_1: 4\n",
      "dropout_layer_1: 0.4\n",
      "kernel_2: 3\n",
      "dropout_layer_2: 0.4\n",
      "kernel_3: 4\n",
      "dropout_layer_3: 0.2\n",
      "kernel_4: 4\n",
      "dropout_layer_4: 0.2\n",
      "Score: 0.9767678380012512\n",
      "\n",
      "Trial 06 summary\n",
      "Hyperparameters:\n",
      "num_layers: 4\n",
      "kernel_0: 2\n",
      "dropout_layer_0: 0.1\n",
      "learning_rate: 0.0001\n",
      "kernel_1: 4\n",
      "dropout_layer_1: 0.1\n",
      "kernel_2: 2\n",
      "dropout_layer_2: 0.4\n",
      "kernel_3: 4\n",
      "dropout_layer_3: 0.3\n",
      "kernel_4: 2\n",
      "dropout_layer_4: 0.3\n",
      "Score: 0.9767321348190308\n",
      "\n",
      "Trial 09 summary\n",
      "Hyperparameters:\n",
      "num_layers: 3\n",
      "kernel_0: 4\n",
      "dropout_layer_0: 0.2\n",
      "learning_rate: 0.0001\n",
      "kernel_1: 2\n",
      "dropout_layer_1: 0.2\n",
      "kernel_2: 3\n",
      "dropout_layer_2: 0.2\n",
      "kernel_3: 2\n",
      "dropout_layer_3: 0.5\n",
      "kernel_4: 3\n",
      "dropout_layer_4: 0.1\n",
      "Score: 0.9766964316368103\n",
      "\n",
      "Trial 01 summary\n",
      "Hyperparameters:\n",
      "num_layers: 2\n",
      "kernel_0: 4\n",
      "dropout_layer_0: 0.2\n",
      "learning_rate: 0.0001\n",
      "kernel_1: 2\n",
      "dropout_layer_1: 0.1\n",
      "Score: 0.9762499928474426\n",
      "\n",
      "Trial 14 summary\n",
      "Hyperparameters:\n",
      "num_layers: 5\n",
      "kernel_0: 3\n",
      "dropout_layer_0: 0.3\n",
      "learning_rate: 0.0001\n",
      "kernel_1: 2\n",
      "dropout_layer_1: 0.1\n",
      "kernel_2: 2\n",
      "dropout_layer_2: 0.2\n",
      "kernel_3: 3\n",
      "dropout_layer_3: 0.2\n",
      "kernel_4: 3\n",
      "dropout_layer_4: 0.3\n",
      "Score: 0.9760000109672546\n",
      "\n",
      "Trial 02 summary\n",
      "Hyperparameters:\n",
      "num_layers: 3\n",
      "kernel_0: 4\n",
      "dropout_layer_0: 0.1\n",
      "learning_rate: 0.0001\n",
      "kernel_1: 4\n",
      "dropout_layer_1: 0.4\n",
      "kernel_2: 2\n",
      "dropout_layer_2: 0.1\n",
      "Score: 0.9757857322692871\n",
      "\n",
      "Trial 07 summary\n",
      "Hyperparameters:\n",
      "num_layers: 4\n",
      "kernel_0: 2\n",
      "dropout_layer_0: 0.4\n",
      "learning_rate: 0.0001\n",
      "kernel_1: 2\n",
      "dropout_layer_1: 0.1\n",
      "kernel_2: 2\n",
      "dropout_layer_2: 0.4\n",
      "kernel_3: 4\n",
      "dropout_layer_3: 0.1\n",
      "kernel_4: 3\n",
      "dropout_layer_4: 0.4\n",
      "Score: 0.9755892753601074\n",
      "\n",
      "Trial 12 summary\n",
      "Hyperparameters:\n",
      "num_layers: 5\n",
      "kernel_0: 2\n",
      "dropout_layer_0: 0.4\n",
      "learning_rate: 0.0001\n",
      "kernel_1: 3\n",
      "dropout_layer_1: 0.3\n",
      "kernel_2: 4\n",
      "dropout_layer_2: 0.1\n",
      "kernel_3: 4\n",
      "dropout_layer_3: 0.3\n",
      "kernel_4: 4\n",
      "dropout_layer_4: 0.3\n",
      "Score: 0.9752321243286133\n",
      "\n",
      "Trial 08 summary\n",
      "Hyperparameters:\n",
      "num_layers: 3\n",
      "kernel_0: 4\n",
      "dropout_layer_0: 0.3\n",
      "learning_rate: 0.001\n",
      "kernel_1: 2\n",
      "dropout_layer_1: 0.4\n",
      "kernel_2: 4\n",
      "dropout_layer_2: 0.5\n",
      "kernel_3: 2\n",
      "dropout_layer_3: 0.1\n",
      "kernel_4: 4\n",
      "dropout_layer_4: 0.4\n",
      "Score: 0.9751071333885193\n"
     ]
    }
   ],
   "source": [
    "tuner.results_summary()"
   ]
  },
  {
   "cell_type": "code",
   "execution_count": 26,
   "id": "7c587609",
   "metadata": {},
   "outputs": [
    {
     "name": "stdout",
     "output_type": "stream",
     "text": [
      "Model: \"model\"\n",
      "__________________________________________________________________________________________________\n",
      " Layer (type)                Output Shape                 Param #   Connected to                  \n",
      "==================================================================================================\n",
      " input_2 (InputLayer)        [(None, 80)]                 0         []                            \n",
      "                                                                                                  \n",
      " embedding_1 (Embedding)     (None, 80, 300)              6175200   ['input_2[0][0]']             \n",
      "                                                                                                  \n",
      " conv1d_5 (Conv1D)           (None, 80, 300)              180300    ['embedding_1[0][0]']         \n",
      "                                                                                                  \n",
      " dropout_3 (Dropout)         (None, 80, 300)              0         ['conv1d_5[0][0]']            \n",
      "                                                                                                  \n",
      " conv1d_6 (Conv1D)           (None, 80, 300)              360300    ['dropout_3[0][0]']           \n",
      "                                                                                                  \n",
      " dropout_4 (Dropout)         (None, 80, 300)              0         ['conv1d_6[0][0]']            \n",
      "                                                                                                  \n",
      " conv1d_7 (Conv1D)           (None, 80, 300)              90300     ['dropout_3[0][0]']           \n",
      "                                                                                                  \n",
      " add_2 (Add)                 (None, 80, 300)              0         ['dropout_4[0][0]',           \n",
      "                                                                     'conv1d_7[0][0]']            \n",
      "                                                                                                  \n",
      " conv1d_8 (Conv1D)           (None, 80, 300)              360300    ['add_2[0][0]']               \n",
      "                                                                                                  \n",
      " dropout_5 (Dropout)         (None, 80, 300)              0         ['conv1d_8[0][0]']            \n",
      "                                                                                                  \n",
      " conv1d_9 (Conv1D)           (None, 80, 300)              90300     ['add_2[0][0]']               \n",
      "                                                                                                  \n",
      " add_3 (Add)                 (None, 80, 300)              0         ['dropout_5[0][0]',           \n",
      "                                                                     'conv1d_9[0][0]']            \n",
      "                                                                                                  \n",
      " dense (Dense)               (None, 80, 16)               4816      ['add_3[0][0]']               \n",
      "                                                                                                  \n",
      "==================================================================================================\n",
      "Total params: 7261516 (27.70 MB)\n",
      "Trainable params: 1086316 (4.14 MB)\n",
      "Non-trainable params: 6175200 (23.56 MB)\n",
      "__________________________________________________________________________________________________\n"
     ]
    }
   ],
   "source": [
    "from tensorflow.keras.models import Sequential, Model\n",
    "from tensorflow.keras.layers import Embedding, Conv1D, Dropout, Dense, Add, Input\n",
    "from tensorflow.keras.optimizers import Adam\n",
    "\n",
    "MAX_SEQUENCE_LENGTH = 80\n",
    "FILTERS = 300  # the dimensionality of the output space (i.e. the number of output filters in the convolution)\n",
    "\n",
    "inputs = Input(shape=(MAX_SEQ_LENGTH,))\n",
    "\n",
    "# Embedding layer\n",
    "embedding_layer = Embedding(\n",
    "    input_dim=VOCABULARY_SIZE,\n",
    "    output_dim=EMBEDDING_SIZE,\n",
    "    input_length=MAX_SEQ_LENGTH,\n",
    "    trainable=False\n",
    ")(inputs)\n",
    "\n",
    "# First convolution layer\n",
    "conv1 = Conv1D(filters=FILTERS, kernel_size=2, activation='relu', padding='same')(embedding_layer)\n",
    "conv1 = Dropout(0.2)(conv1)\n",
    "\n",
    "# Second convolution layer with residual connection\n",
    "conv2 = Conv1D(filters=FILTERS, kernel_size=4, activation='relu', padding='same')(conv1)\n",
    "conv2 = Dropout(0.3)(conv2)\n",
    "residual_conv2 = Conv1D(filters=FILTERS, kernel_size=1, padding='same')(conv1)\n",
    "conv2 = Add()([conv2, residual_conv2])\n",
    "\n",
    "# Third convolution layer with residual connection\n",
    "conv3 = Conv1D(filters=FILTERS, kernel_size=4, activation='relu', padding='same')(conv2)\n",
    "conv3 = Dropout(0.2)(conv3)\n",
    "residual_conv3 = Conv1D(filters=FILTERS, kernel_size=1, padding='same')(conv2)\n",
    "conv3 = Add()([conv3, residual_conv3])\n",
    "\n",
    "# Dense layer for classification\n",
    "output_layer = Dense(NUM_CLASSES, activation='softmax')(conv3)\n",
    "\n",
    "# Create the model\n",
    "model = Model(inputs=inputs, outputs=output_layer)\n",
    "\n",
    "# Compile the model\n",
    "model.compile(\n",
    "    loss='categorical_crossentropy',\n",
    "    optimizer=Adam(learning_rate=0.001),\n",
    "    metrics=['acc']\n",
    ")\n",
    "\n",
    "# Display the model summary\n",
    "model.summary()"
   ]
  },
  {
   "cell_type": "code",
   "execution_count": 27,
   "id": "c84fa9fb",
   "metadata": {},
   "outputs": [
    {
     "name": "stdout",
     "output_type": "stream",
     "text": [
      "Epoch 1/50\n",
      "WARNING:tensorflow:From C:\\Users\\vassi\\anaconda3\\Lib\\site-packages\\keras\\src\\utils\\tf_utils.py:492: The name tf.ragged.RaggedTensorValue is deprecated. Please use tf.compat.v1.ragged.RaggedTensorValue instead.\n",
      "\n",
      "WARNING:tensorflow:From C:\\Users\\vassi\\anaconda3\\Lib\\site-packages\\keras\\src\\engine\\base_layer_utils.py:384: The name tf.executing_eagerly_outside_functions is deprecated. Please use tf.compat.v1.executing_eagerly_outside_functions instead.\n",
      "\n",
      "127/128 [============================>.] - ETA: 0s - loss: 0.4138 - accuracy: 0.8746\n",
      "Epoch 1: val_accuracy improved from -inf to 0.91159, saving model to checkpoints\\weights.hdf5\n",
      "128/128 [==============================] - 10s 68ms/step - loss: 0.4130 - accuracy: 0.8748 - val_loss: 0.2774 - val_accuracy: 0.9116\n",
      "Epoch 2/50\n",
      "127/128 [============================>.] - ETA: 0s - loss: 0.1948 - accuracy: 0.9360\n",
      "Epoch 2: val_accuracy improved from 0.91159 to 0.92929, saving model to checkpoints\\weights.hdf5\n",
      "128/128 [==============================] - 8s 66ms/step - loss: 0.1947 - accuracy: 0.9361 - val_loss: 0.2162 - val_accuracy: 0.9293\n",
      "Epoch 3/50\n",
      "127/128 [============================>.] - ETA: 0s - loss: 0.1518 - accuracy: 0.9502\n",
      "Epoch 3: val_accuracy improved from 0.92929 to 0.94262, saving model to checkpoints\\weights.hdf5\n",
      "128/128 [==============================] - 8s 66ms/step - loss: 0.1519 - accuracy: 0.9502 - val_loss: 0.1791 - val_accuracy: 0.9426\n",
      "Epoch 4/50\n",
      "127/128 [============================>.] - ETA: 0s - loss: 0.1244 - accuracy: 0.9595\n",
      "Epoch 4: val_accuracy improved from 0.94262 to 0.95070, saving model to checkpoints\\weights.hdf5\n",
      "128/128 [==============================] - 8s 65ms/step - loss: 0.1244 - accuracy: 0.9596 - val_loss: 0.1566 - val_accuracy: 0.9507\n",
      "Epoch 5/50\n",
      "127/128 [============================>.] - ETA: 0s - loss: 0.1042 - accuracy: 0.9663\n",
      "Epoch 5: val_accuracy improved from 0.95070 to 0.95330, saving model to checkpoints\\weights.hdf5\n",
      "128/128 [==============================] - 8s 66ms/step - loss: 0.1041 - accuracy: 0.9664 - val_loss: 0.1475 - val_accuracy: 0.9533\n",
      "Epoch 6/50\n",
      "127/128 [============================>.] - ETA: 0s - loss: 0.0888 - accuracy: 0.9717\n",
      "Epoch 6: val_accuracy improved from 0.95330 to 0.95709, saving model to checkpoints\\weights.hdf5\n",
      "128/128 [==============================] - 8s 66ms/step - loss: 0.0888 - accuracy: 0.9717 - val_loss: 0.1390 - val_accuracy: 0.9571\n",
      "Epoch 7/50\n",
      "127/128 [============================>.] - ETA: 0s - loss: 0.0768 - accuracy: 0.9756\n",
      "Epoch 7: val_accuracy improved from 0.95709 to 0.95893, saving model to checkpoints\\weights.hdf5\n",
      "128/128 [==============================] - 9s 74ms/step - loss: 0.0768 - accuracy: 0.9756 - val_loss: 0.1347 - val_accuracy: 0.9589\n",
      "Epoch 8/50\n",
      "127/128 [============================>.] - ETA: 0s - loss: 0.0675 - accuracy: 0.9783\n",
      "Epoch 8: val_accuracy improved from 0.95893 to 0.96014, saving model to checkpoints\\weights.hdf5\n",
      "128/128 [==============================] - 10s 82ms/step - loss: 0.0675 - accuracy: 0.9784 - val_loss: 0.1323 - val_accuracy: 0.9601\n",
      "Epoch 9/50\n",
      "127/128 [============================>.] - ETA: 0s - loss: 0.0592 - accuracy: 0.9810\n",
      "Epoch 9: val_accuracy improved from 0.96014 to 0.96018, saving model to checkpoints\\weights.hdf5\n",
      "128/128 [==============================] - 11s 82ms/step - loss: 0.0592 - accuracy: 0.9810 - val_loss: 0.1345 - val_accuracy: 0.9602\n",
      "Epoch 10/50\n",
      "127/128 [============================>.] - ETA: 0s - loss: 0.0528 - accuracy: 0.9831\n",
      "Epoch 10: val_accuracy improved from 0.96018 to 0.96179, saving model to checkpoints\\weights.hdf5\n",
      "128/128 [==============================] - 11s 83ms/step - loss: 0.0528 - accuracy: 0.9831 - val_loss: 0.1312 - val_accuracy: 0.9618\n",
      "Epoch 11/50\n",
      "128/128 [==============================] - ETA: 0s - loss: 0.0474 - accuracy: 0.9847\n",
      "Epoch 11: val_accuracy improved from 0.96179 to 0.96296, saving model to checkpoints\\weights.hdf5\n",
      "128/128 [==============================] - 11s 83ms/step - loss: 0.0474 - accuracy: 0.9847 - val_loss: 0.1305 - val_accuracy: 0.9630\n",
      "Epoch 12/50\n",
      "127/128 [============================>.] - ETA: 0s - loss: 0.0430 - accuracy: 0.9861\n",
      "Epoch 12: val_accuracy did not improve from 0.96296\n",
      "128/128 [==============================] - 11s 82ms/step - loss: 0.0431 - accuracy: 0.9861 - val_loss: 0.1444 - val_accuracy: 0.9601\n",
      "Epoch 13/50\n",
      "127/128 [============================>.] - ETA: 0s - loss: 0.0391 - accuracy: 0.9872\n",
      "Epoch 13: val_accuracy did not improve from 0.96296\n",
      "128/128 [==============================] - 11s 84ms/step - loss: 0.0391 - accuracy: 0.9872 - val_loss: 0.1418 - val_accuracy: 0.9620\n",
      "Epoch 14/50\n",
      "127/128 [============================>.] - ETA: 0s - loss: 0.0354 - accuracy: 0.9882\n",
      "Epoch 14: val_accuracy did not improve from 0.96296\n",
      "128/128 [==============================] - 11s 86ms/step - loss: 0.0354 - accuracy: 0.9883 - val_loss: 0.1441 - val_accuracy: 0.9616\n",
      "Epoch 15/50\n",
      "127/128 [============================>.] - ETA: 0s - loss: 0.0330 - accuracy: 0.9892\n",
      "Epoch 15: val_accuracy did not improve from 0.96296\n",
      "128/128 [==============================] - 10s 80ms/step - loss: 0.0330 - accuracy: 0.9892 - val_loss: 0.1394 - val_accuracy: 0.9627\n",
      "Epoch 16/50\n",
      "127/128 [============================>.] - ETA: 0s - loss: 0.0303 - accuracy: 0.9902\n",
      "Epoch 16: val_accuracy did not improve from 0.96296\n",
      "128/128 [==============================] - 10s 79ms/step - loss: 0.0303 - accuracy: 0.9901 - val_loss: 0.1551 - val_accuracy: 0.9619\n",
      "Epoch 17/50\n",
      "127/128 [============================>.] - ETA: 0s - loss: 0.0284 - accuracy: 0.9905\n",
      "Epoch 17: val_accuracy improved from 0.96296 to 0.96298, saving model to checkpoints\\weights.hdf5\n",
      "128/128 [==============================] - 10s 80ms/step - loss: 0.0284 - accuracy: 0.9905 - val_loss: 0.1494 - val_accuracy: 0.9630\n",
      "Epoch 18/50\n",
      "127/128 [============================>.] - ETA: 0s - loss: 0.0266 - accuracy: 0.9911\n",
      "Epoch 18: val_accuracy did not improve from 0.96298\n",
      "128/128 [==============================] - 10s 79ms/step - loss: 0.0267 - accuracy: 0.9910 - val_loss: 0.1561 - val_accuracy: 0.9616\n",
      "Epoch 19/50\n",
      "127/128 [============================>.] - ETA: 0s - loss: 0.0250 - accuracy: 0.9916\n",
      "Epoch 19: val_accuracy did not improve from 0.96298\n",
      "128/128 [==============================] - 11s 83ms/step - loss: 0.0251 - accuracy: 0.9915 - val_loss: 0.1615 - val_accuracy: 0.9623\n",
      "Epoch 20/50\n",
      "127/128 [============================>.] - ETA: 0s - loss: 0.0236 - accuracy: 0.9921\n",
      "Epoch 20: val_accuracy did not improve from 0.96298\n",
      "128/128 [==============================] - 11s 84ms/step - loss: 0.0236 - accuracy: 0.9921 - val_loss: 0.1625 - val_accuracy: 0.9616\n",
      "Epoch 21/50\n",
      "127/128 [============================>.] - ETA: 0s - loss: 0.0224 - accuracy: 0.9926\n",
      "Epoch 21: val_accuracy did not improve from 0.96298\n",
      "128/128 [==============================] - 10s 82ms/step - loss: 0.0224 - accuracy: 0.9926 - val_loss: 0.1662 - val_accuracy: 0.9619\n",
      "\n",
      "Training time: 00:03:28 \n",
      "\n"
     ]
    }
   ],
   "source": [
    "import time\n",
    "import os\n",
    "from tensorflow.keras.callbacks import ModelCheckpoint\n",
    "\n",
    "early_stopping = EarlyStopping(\n",
    "    monitor='val_loss', patience=10)\n",
    "\n",
    "model.compile(\n",
    "    loss='categorical_crossentropy',\n",
    "    optimizer=Adam(learning_rate=0.001),\n",
    "    metrics=[\"accuracy\"]\n",
    "    )\n",
    "if not os.path.exists('./checkpoints'):\n",
    "  os.makedirs('./checkpoints')\n",
    "# Callback to save the Keras model or model weights at some frequency.\n",
    "checkpoint = ModelCheckpoint(\n",
    "    'checkpoints/weights.hdf5',\n",
    "    monitor='val_accuracy',\n",
    "    mode='max',\n",
    "    verbose=2,\n",
    "    save_best_only=True,\n",
    "    save_weights_only=True\n",
    "    )\n",
    "start_training_time = time.time()\n",
    "\n",
    "\n",
    "history = model.fit(\n",
    "    X_train_padded,\n",
    "    y_train,\n",
    "    validation_data=(X_dev_padded, y_dev),\n",
    "    batch_size=64,\n",
    "    epochs=50,\n",
    "    shuffle=True,\n",
    "    callbacks=[early_stopping, checkpoint]\n",
    "    )\n",
    "end_training_time = time.time()\n",
    "\n",
    "print(f'\\nTraining time: {time.strftime(\"%H:%M:%S\", time.gmtime(end_training_time - start_training_time))} \\n')"
   ]
  },
  {
   "cell_type": "code",
   "execution_count": 28,
   "id": "37a9be2c",
   "metadata": {},
   "outputs": [
    {
     "data": {
      "image/png": "[encoded data removed]",
      "text/plain": [
       "<Figure size 640x480 with 1 Axes>"
      ]
     },
     "metadata": {},
     "output_type": "display_data"
    },
    {
     "data": {
      "image/png": "[encoded data removed]",
      "text/plain": [
       "<Figure size 640x480 with 1 Axes>"
      ]
     },
     "metadata": {},
     "output_type": "display_data"
    }
   ],
   "source": [
    "%matplotlib inline\n",
    "import matplotlib.pyplot as plt\n",
    "\n",
    "# summarize history for accuracy\n",
    "plt.plot(history.history['accuracy'])\n",
    "plt.plot(history.history['val_accuracy'])\n",
    "plt.title('model accuracy')\n",
    "plt.ylabel('accuracy')\n",
    "plt.xlabel('epoch')\n",
    "plt.legend(['train', 'dev'], loc='upper left')\n",
    "plt.show()\n",
    "\n",
    "# summarize history for loss\n",
    "plt.plot(history.history['loss'])\n",
    "plt.plot(history.history['val_loss'])\n",
    "plt.title('model loss')\n",
    "plt.ylabel('loss')\n",
    "plt.xlabel('epoch')\n",
    "plt.legend(['train', 'dev'], loc='upper right')\n",
    "plt.show()"
   ]
  },
  {
   "cell_type": "code",
   "execution_count": 29,
   "id": "0f0f9d3d",
   "metadata": {},
   "outputs": [
    {
     "name": "stdout",
     "output_type": "stream",
     "text": [
      "34/34 [==============================] - 0s 11ms/step\n",
      "-----------Predection Scores for Test Set-----------\n",
      "              precision    recall  f1-score   support\n",
      "\n",
      "        NOUN       0.82      0.91      0.86      4813\n",
      "         ADP       0.99      0.99      0.99      3723\n",
      "         DET       0.97      0.99      0.98      3776\n",
      "       PUNCT       1.00      1.00      1.00      3272\n",
      "        VERB       0.84      0.75      0.79      2229\n",
      "         ADJ       0.68      0.76      0.72      1496\n",
      "       PROPN       0.75      0.51      0.60      1249\n",
      "         ADV       0.89      0.91      0.90      1210\n",
      "         AUX       0.95      0.93      0.94      1033\n",
      "        PRON       0.90      0.88      0.89      1225\n",
      "       CCONJ       0.96      0.94      0.95       750\n",
      "         NUM       0.90      0.80      0.85       401\n",
      "       SCONJ       0.85      0.74      0.79       313\n",
      "           X       0.50      0.11      0.19        44\n",
      "        INTJ       0.73      0.69      0.71        16\n",
      "\n",
      "    accuracy                           0.90     25550\n",
      "   macro avg       0.85      0.79      0.81     25550\n",
      "weighted avg       0.90      0.90      0.89     25550\n",
      "\n",
      "Class NOUN - AUC-PR: 0.8673801225763534\n",
      "Class ADP - AUC-PR: 0.9894764857611724\n",
      "Class DET - AUC-PR: 0.979720006035681\n",
      "Class PUNCT - AUC-PR: 0.9998530900582041\n",
      "Class VERB - AUC-PR: 0.7970348698388573\n",
      "Class ADJ - AUC-PR: 0.7194126547468606\n",
      "Class PROPN - AUC-PR: 0.6315944403890725\n",
      "Class ADV - AUC-PR: 0.9000060713870607\n",
      "Class AUX - AUC-PR: 0.9364516777569916\n",
      "Class PRON - AUC-PR: 0.8944398510609453\n",
      "Class CCONJ - AUC-PR: 0.9471753435085083\n",
      "Class NUM - AUC-PR: 0.8503013520230102\n",
      "Class SCONJ - AUC-PR: 0.7963129800114477\n",
      "Class X - AUC-PR: 0.3070483517898532\n",
      "Class INTJ - AUC-PR: 0.7104461756373938\n",
      "Macro AUC-PR: 0.7704158420363383\n"
     ]
    }
   ],
   "source": [
    "test = evaluate_model(X_test_padded, y_test, model,\"Test Set\")"
   ]
  },
  {
   "cell_type": "code",
   "execution_count": 30,
   "id": "ae23ff3c",
   "metadata": {},
   "outputs": [
    {
     "name": "stdout",
     "output_type": "stream",
     "text": [
      "255/255 [==============================] - 3s 12ms/step\n",
      "-----------Predection Scores for Train Set-----------\n",
      "              precision    recall  f1-score   support\n",
      "\n",
      "        NOUN       0.99      1.00      0.99     43174\n",
      "         ADP       1.00      1.00      1.00     33895\n",
      "         DET       1.00      1.00      1.00     33530\n",
      "       PUNCT       1.00      1.00      1.00     24499\n",
      "        VERB       1.00      0.99      1.00     16428\n",
      "         ADJ       0.99      0.99      0.99     15242\n",
      "       PROPN       0.99      0.97      0.98      9827\n",
      "         ADV       0.99      0.99      0.99      8401\n",
      "         AUX       1.00      1.00      1.00      7260\n",
      "        PRON       0.98      0.99      0.99      7244\n",
      "       CCONJ       0.99      0.99      0.99      6315\n",
      "         NUM       0.99      0.98      0.99      5007\n",
      "       SCONJ       0.97      0.94      0.96      1671\n",
      "           X       0.99      0.78      0.87       270\n",
      "        INTJ       0.98      0.70      0.82        61\n",
      "\n",
      "    accuracy                           0.99    212824\n",
      "   macro avg       0.99      0.95      0.97    212824\n",
      "weighted avg       0.99      0.99      0.99    212824\n",
      "\n",
      "Class NOUN - AUC-PR: 0.9934131269550153\n",
      "Class ADP - AUC-PR: 0.9985129840153983\n",
      "Class DET - AUC-PR: 0.9990911878667114\n",
      "Class PUNCT - AUC-PR: 0.9998813732852596\n",
      "Class VERB - AUC-PR: 0.9953501261026924\n",
      "Class ADJ - AUC-PR: 0.9931610062529881\n",
      "Class PROPN - AUC-PR: 0.9779853331052263\n",
      "Class ADV - AUC-PR: 0.9876437340847347\n",
      "Class AUX - AUC-PR: 0.9971914906407922\n",
      "Class PRON - AUC-PR: 0.9860640189285649\n",
      "Class CCONJ - AUC-PR: 0.9896767917206892\n",
      "Class NUM - AUC-PR: 0.9859492767645149\n",
      "Class SCONJ - AUC-PR: 0.9580733818069213\n",
      "Class X - AUC-PR: 0.8818926025165732\n",
      "Class INTJ - AUC-PR: 0.8411091701744495\n",
      "Macro AUC-PR: 0.9115622252637832\n"
     ]
    }
   ],
   "source": [
    "test = evaluate_model(X_train_padded, y_train, model,\"Train Set\")"
   ]
  },
  {
   "cell_type": "code",
   "execution_count": 31,
   "id": "23658331",
   "metadata": {},
   "outputs": [
    {
     "name": "stdout",
     "output_type": "stream",
     "text": [
      "22/22 [==============================] - 0s 11ms/step\n",
      "-----------Predection Scores for Dev Set-----------\n",
      "              precision    recall  f1-score   support\n",
      "\n",
      "        NOUN       0.88      0.91      0.89      5874\n",
      "         ADP       0.99      1.00      0.99      4793\n",
      "         DET       0.98      0.99      0.99      4030\n",
      "       PUNCT       1.00      1.00      1.00      2073\n",
      "        VERB       0.80      0.76      0.78      1704\n",
      "         ADJ       0.77      0.74      0.75      1992\n",
      "       PROPN       0.37      0.37      0.37       316\n",
      "         ADV       0.90      0.90      0.90       720\n",
      "         AUX       0.93      0.96      0.95       768\n",
      "        PRON       0.91      0.91      0.91       882\n",
      "       CCONJ       0.95      0.95      0.95       622\n",
      "         NUM       0.92      0.72      0.80       437\n",
      "       SCONJ       0.82      0.74      0.78       149\n",
      "           X       0.57      0.06      0.11        64\n",
      "        INTJ       0.00      0.00      0.00         2\n",
      "\n",
      "    accuracy                           0.91     24426\n",
      "   macro avg       0.79      0.73      0.75     24426\n",
      "weighted avg       0.91      0.91      0.91     24426\n",
      "\n",
      "Class NOUN - AUC-PR: 0.8980254638979998\n",
      "Class ADP - AUC-PR: 0.9941292895205832\n",
      "Class DET - AUC-PR: 0.9854334350600706\n",
      "Class PUNCT - AUC-PR: 0.9993031967128385\n",
      "Class VERB - AUC-PR: 0.7873865955829746\n",
      "Class ADJ - AUC-PR: 0.7593602305383134\n",
      "Class PROPN - AUC-PR: 0.37459659171938553\n",
      "Class ADV - AUC-PR: 0.9022850401210208\n",
      "Class AUX - AUC-PR: 0.9465501902501507\n",
      "Class PRON - AUC-PR: 0.9125445279463137\n",
      "Class CCONJ - AUC-PR: 0.951908519934056\n",
      "Class NUM - AUC-PR: 0.8168330518324798\n",
      "Class SCONJ - AUC-PR: 0.7839336183019068\n",
      "Class X - AUC-PR: 0.31749999999999995\n",
      "Class INTJ - AUC-PR: 0.5000178571428572\n",
      "Macro AUC-PR: 0.7456129755350593\n"
     ]
    }
   ],
   "source": [
    "test = evaluate_model(X_dev_padded, y_dev, model,\"Dev Set\")"
   ]
  },
  {
   "cell_type": "code",
   "execution_count": null,
   "id": "7f09b10b",
   "metadata": {},
   "outputs": [],
   "source": []
  }
 ],
 "metadata": {
  "kernelspec": {
   "display_name": "Python 3 (ipykernel)",
   "language": "python",
   "name": "python3"
  },
  "language_info": {
   "codemirror_mode": {
    "name": "ipython",
    "version": 3
   },
   "file_extension": ".py",
   "mimetype": "text/x-python",
   "name": "python",
   "nbconvert_exporter": "python",
   "pygments_lexer": "ipython3",
   "version": "3.11.4"
  }
 },
 "nbformat": 4,
 "nbformat_minor": 5
}
