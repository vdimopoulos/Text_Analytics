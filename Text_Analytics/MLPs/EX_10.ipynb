{
 "cells": [
  {
   "cell_type": "markdown",
   "id": "67f02d66",
   "metadata": {},
   "source": [
    "# Part-of-Speech (POS) Tagger"
   ]
  },
  {
   "cell_type": "markdown",
   "id": "497d1577",
   "metadata": {},
   "source": [
    "To create and train our Part-of-Speech tagger, we used Italian words, sentences and tags found in the treebank \"Italian-VIT\", found at https://github.com/UniversalDependencies/UD_Italian-VIT/tree/master. This source provided 3 files (train, dev and test) in form of .conllu. To read the data, we used the method below, that tracks and saves every sentence after the string \"# text\" and reads all the rows below it, keeping the word POS pairs in the 2nd and 4th columns. Before the method, we make sure to separate any commas or periods that are attached to words."
   ]
  },
  {
   "cell_type": "code",
   "execution_count": 1,
   "id": "b406ae42",
   "metadata": {},
   "outputs": [],
   "source": [
    "import pandas as pd\n",
    "import re\n",
    "\n",
    "def add_space(sentence):\n",
    "    # Using regular expression to find comma or period attached to a word\n",
    "    sentence = re.sub(r'(\\w)([,.])', r'\\1 \\2', sentence)\n",
    "    return sentence\n",
    "\n",
    "def read_conllu(file_path):\n",
    "    sentences = []\n",
    "    words = []\n",
    "    POS_tags = []\n",
    "    index = []\n",
    "    sentence = None\n",
    "\n",
    "    with open(file_path, 'r', encoding='utf-8') as file:\n",
    "        i = -1\n",
    "        for line in file:\n",
    "            line = line.strip()\n",
    "            if line == '':\n",
    "                if sentence:\n",
    "                    sentences.append(add_space(sentence))\n",
    "                    sentence = None\n",
    "            elif line.startswith('# text'):\n",
    "                i += 1\n",
    "                sentence = \"<s>\" + line.split(\"=\")[1] + \" <e>\"\n",
    "            elif line.startswith('#'):\n",
    "                continue\n",
    "            else:\n",
    "                tokens = line.split('\\t')\n",
    "                words.append(tokens[1])\n",
    "                index.append(i)\n",
    "                POS_tags.append(tokens[3])\n",
    "        sent_df = pd.DataFrame({'Sentences': sentences})\n",
    "        words_df = pd.DataFrame({'Words': words,'Sentence': index, 'POS': POS_tags})\n",
    "    return sent_df, words_df"
   ]
  },
  {
   "cell_type": "markdown",
   "id": "36e593df",
   "metadata": {},
   "source": [
    "## Training, Dev and Test sets."
   ]
  },
  {
   "cell_type": "markdown",
   "id": "8f042f74",
   "metadata": {},
   "source": [
    "For each one of these sets we kept a dataframe of the sentences and one of the words with their POS tags and their sentence origin."
   ]
  },
  {
   "cell_type": "code",
   "execution_count": 2,
   "id": "fd112b67",
   "metadata": {},
   "outputs": [
    {
     "data": {
      "text/html": [
       "<div>\n",
       "<style scoped>\n",
       "    .dataframe tbody tr th:only-of-type {\n",
       "        vertical-align: middle;\n",
       "    }\n",
       "\n",
       "    .dataframe tbody tr th {\n",
       "        vertical-align: top;\n",
       "    }\n",
       "\n",
       "    .dataframe thead th {\n",
       "        text-align: right;\n",
       "    }\n",
       "</style>\n",
       "<table border=\"1\" class=\"dataframe\">\n",
       "  <thead>\n",
       "    <tr style=\"text-align: right;\">\n",
       "      <th></th>\n",
       "      <th>Sentences</th>\n",
       "    </tr>\n",
       "  </thead>\n",
       "  <tbody>\n",
       "    <tr>\n",
       "      <th>0</th>\n",
       "      <td>&lt;s&gt; Le infrastrutture come fattore di competit...</td>\n",
       "    </tr>\n",
       "    <tr>\n",
       "      <th>1</th>\n",
       "      <td>&lt;s&gt; Negli ultimi anni la dinamica dei polo di ...</td>\n",
       "    </tr>\n",
       "    <tr>\n",
       "      <th>2</th>\n",
       "      <td>&lt;s&gt; Il raggiungimento e il mantenimento di pos...</td>\n",
       "    </tr>\n",
       "    <tr>\n",
       "      <th>3</th>\n",
       "      <td>&lt;s&gt; Quest'ultimo è funzione di variabili strut...</td>\n",
       "    </tr>\n",
       "    <tr>\n",
       "      <th>4</th>\n",
       "      <td>&lt;s&gt; Il contesto milanese , se da un lato è sta...</td>\n",
       "    </tr>\n",
       "    <tr>\n",
       "      <th>...</th>\n",
       "      <td>...</td>\n",
       "    </tr>\n",
       "    <tr>\n",
       "      <th>8272</th>\n",
       "      <td>&lt;s&gt; Premio Elsa Morante . &lt;e&gt;</td>\n",
       "    </tr>\n",
       "    <tr>\n",
       "      <th>8273</th>\n",
       "      <td>&lt;s&gt; È nato il premio Elsa Morante che verrà as...</td>\n",
       "    </tr>\n",
       "    <tr>\n",
       "      <th>8274</th>\n",
       "      <td>&lt;s&gt; Questo Premio che non avrà sede fissa né s...</td>\n",
       "    </tr>\n",
       "    <tr>\n",
       "      <th>8275</th>\n",
       "      <td>&lt;s&gt; sono promotori dell'iniziativa Patrizia Ca...</td>\n",
       "    </tr>\n",
       "    <tr>\n",
       "      <th>8276</th>\n",
       "      <td>&lt;s&gt; Libri in campo . &lt;e&gt;</td>\n",
       "    </tr>\n",
       "  </tbody>\n",
       "</table>\n",
       "<p>8277 rows × 1 columns</p>\n",
       "</div>"
      ],
      "text/plain": [
       "                                              Sentences\n",
       "0     <s> Le infrastrutture come fattore di competit...\n",
       "1     <s> Negli ultimi anni la dinamica dei polo di ...\n",
       "2     <s> Il raggiungimento e il mantenimento di pos...\n",
       "3     <s> Quest'ultimo è funzione di variabili strut...\n",
       "4     <s> Il contesto milanese , se da un lato è sta...\n",
       "...                                                 ...\n",
       "8272                      <s> Premio Elsa Morante . <e>\n",
       "8273  <s> È nato il premio Elsa Morante che verrà as...\n",
       "8274  <s> Questo Premio che non avrà sede fissa né s...\n",
       "8275  <s> sono promotori dell'iniziativa Patrizia Ca...\n",
       "8276                           <s> Libri in campo . <e>\n",
       "\n",
       "[8277 rows x 1 columns]"
      ]
     },
     "execution_count": 2,
     "metadata": {},
     "output_type": "execute_result"
    }
   ],
   "source": [
    "train_sent_df, train_words_df = read_conllu(\"data/UD_Italian-VIT-master/it_vit-ud-train.conllu\")\n",
    "train_sent_df"
   ]
  },
  {
   "cell_type": "code",
   "execution_count": 3,
   "id": "0bbf79ef",
   "metadata": {},
   "outputs": [
    {
     "data": {
      "text/html": [
       "<div>\n",
       "<style scoped>\n",
       "    .dataframe tbody tr th:only-of-type {\n",
       "        vertical-align: middle;\n",
       "    }\n",
       "\n",
       "    .dataframe tbody tr th {\n",
       "        vertical-align: top;\n",
       "    }\n",
       "\n",
       "    .dataframe thead th {\n",
       "        text-align: right;\n",
       "    }\n",
       "</style>\n",
       "<table border=\"1\" class=\"dataframe\">\n",
       "  <thead>\n",
       "    <tr style=\"text-align: right;\">\n",
       "      <th></th>\n",
       "      <th>Words</th>\n",
       "      <th>Sentence</th>\n",
       "      <th>POS</th>\n",
       "    </tr>\n",
       "  </thead>\n",
       "  <tbody>\n",
       "    <tr>\n",
       "      <th>0</th>\n",
       "      <td>Le</td>\n",
       "      <td>0</td>\n",
       "      <td>DET</td>\n",
       "    </tr>\n",
       "    <tr>\n",
       "      <th>1</th>\n",
       "      <td>infrastrutture</td>\n",
       "      <td>0</td>\n",
       "      <td>NOUN</td>\n",
       "    </tr>\n",
       "    <tr>\n",
       "      <th>2</th>\n",
       "      <td>come</td>\n",
       "      <td>0</td>\n",
       "      <td>ADP</td>\n",
       "    </tr>\n",
       "    <tr>\n",
       "      <th>3</th>\n",
       "      <td>fattore</td>\n",
       "      <td>0</td>\n",
       "      <td>NOUN</td>\n",
       "    </tr>\n",
       "    <tr>\n",
       "      <th>4</th>\n",
       "      <td>di</td>\n",
       "      <td>0</td>\n",
       "      <td>ADP</td>\n",
       "    </tr>\n",
       "    <tr>\n",
       "      <th>...</th>\n",
       "      <td>...</td>\n",
       "      <td>...</td>\n",
       "      <td>...</td>\n",
       "    </tr>\n",
       "    <tr>\n",
       "      <th>241585</th>\n",
       "      <td>.</td>\n",
       "      <td>8275</td>\n",
       "      <td>PUNCT</td>\n",
       "    </tr>\n",
       "    <tr>\n",
       "      <th>241586</th>\n",
       "      <td>Libri</td>\n",
       "      <td>8276</td>\n",
       "      <td>NOUN</td>\n",
       "    </tr>\n",
       "    <tr>\n",
       "      <th>241587</th>\n",
       "      <td>in</td>\n",
       "      <td>8276</td>\n",
       "      <td>ADP</td>\n",
       "    </tr>\n",
       "    <tr>\n",
       "      <th>241588</th>\n",
       "      <td>campo</td>\n",
       "      <td>8276</td>\n",
       "      <td>NOUN</td>\n",
       "    </tr>\n",
       "    <tr>\n",
       "      <th>241589</th>\n",
       "      <td>.</td>\n",
       "      <td>8276</td>\n",
       "      <td>PUNCT</td>\n",
       "    </tr>\n",
       "  </tbody>\n",
       "</table>\n",
       "<p>241590 rows × 3 columns</p>\n",
       "</div>"
      ],
      "text/plain": [
       "                 Words  Sentence    POS\n",
       "0                   Le         0    DET\n",
       "1       infrastrutture         0   NOUN\n",
       "2                 come         0    ADP\n",
       "3              fattore         0   NOUN\n",
       "4                   di         0    ADP\n",
       "...                ...       ...    ...\n",
       "241585               .      8275  PUNCT\n",
       "241586           Libri      8276   NOUN\n",
       "241587              in      8276    ADP\n",
       "241588           campo      8276   NOUN\n",
       "241589               .      8276  PUNCT\n",
       "\n",
       "[241590 rows x 3 columns]"
      ]
     },
     "execution_count": 3,
     "metadata": {},
     "output_type": "execute_result"
    }
   ],
   "source": [
    "train_words_df"
   ]
  },
  {
   "cell_type": "code",
   "execution_count": 4,
   "id": "cbe6b414",
   "metadata": {},
   "outputs": [
    {
     "data": {
      "text/plain": [
       "25.73082034553582"
      ]
     },
     "execution_count": 4,
     "metadata": {},
     "output_type": "execute_result"
    }
   ],
   "source": [
    "train_sent_df['Sentences'].apply(lambda x: len(x.split())).mean()"
   ]
  },
  {
   "cell_type": "code",
   "execution_count": 5,
   "id": "42d81a46",
   "metadata": {},
   "outputs": [
    {
     "data": {
      "text/plain": [
       "23050"
      ]
     },
     "execution_count": 5,
     "metadata": {},
     "output_type": "execute_result"
    }
   ],
   "source": [
    "len(train_words_df[\"Words\"].unique())"
   ]
  },
  {
   "cell_type": "code",
   "execution_count": 6,
   "id": "a1dfd1a6",
   "metadata": {},
   "outputs": [
    {
     "data": {
      "text/html": [
       "<div>\n",
       "<style scoped>\n",
       "    .dataframe tbody tr th:only-of-type {\n",
       "        vertical-align: middle;\n",
       "    }\n",
       "\n",
       "    .dataframe tbody tr th {\n",
       "        vertical-align: top;\n",
       "    }\n",
       "\n",
       "    .dataframe thead th {\n",
       "        text-align: right;\n",
       "    }\n",
       "</style>\n",
       "<table border=\"1\" class=\"dataframe\">\n",
       "  <thead>\n",
       "    <tr style=\"text-align: right;\">\n",
       "      <th></th>\n",
       "      <th>Sentences</th>\n",
       "    </tr>\n",
       "  </thead>\n",
       "  <tbody>\n",
       "    <tr>\n",
       "      <th>0</th>\n",
       "      <td>&lt;s&gt; Non sono consentite assegnazioni provvisor...</td>\n",
       "    </tr>\n",
       "    <tr>\n",
       "      <th>1</th>\n",
       "      <td>&lt;s&gt; È consentita inoltre la partecipazione pro...</td>\n",
       "    </tr>\n",
       "    <tr>\n",
       "      <th>2</th>\n",
       "      <td>&lt;s&gt; I predetti motivi devono costituire oggett...</td>\n",
       "    </tr>\n",
       "    <tr>\n",
       "      <th>3</th>\n",
       "      <td>&lt;s&gt; In caso di ricongiungimento al familiare d...</td>\n",
       "    </tr>\n",
       "    <tr>\n",
       "      <th>4</th>\n",
       "      <td>&lt;s&gt; Ai fini della possibilità di presentazione...</td>\n",
       "    </tr>\n",
       "    <tr>\n",
       "      <th>...</th>\n",
       "      <td>...</td>\n",
       "    </tr>\n",
       "    <tr>\n",
       "      <th>1062</th>\n",
       "      <td>&lt;s&gt; Scrooge era il suo unico esecutore testame...</td>\n",
       "    </tr>\n",
       "    <tr>\n",
       "      <th>1063</th>\n",
       "      <td>&lt;s&gt; Anzi il nostro Scrooge , che per verità il...</td>\n",
       "    </tr>\n",
       "    <tr>\n",
       "      <th>1064</th>\n",
       "      <td>&lt;s&gt; Il ricordo dei funerali mi fa tornare al p...</td>\n",
       "    </tr>\n",
       "    <tr>\n",
       "      <th>1065</th>\n",
       "      <td>&lt;s&gt; Non c'è dunque dubbio che Marley era morto...</td>\n",
       "    </tr>\n",
       "    <tr>\n",
       "      <th>1066</th>\n",
       "      <td>&lt;s&gt; Questo mettiamolo bene in sodo , se no nie...</td>\n",
       "    </tr>\n",
       "  </tbody>\n",
       "</table>\n",
       "<p>1067 rows × 1 columns</p>\n",
       "</div>"
      ],
      "text/plain": [
       "                                              Sentences\n",
       "0     <s> Non sono consentite assegnazioni provvisor...\n",
       "1     <s> È consentita inoltre la partecipazione pro...\n",
       "2     <s> I predetti motivi devono costituire oggett...\n",
       "3     <s> In caso di ricongiungimento al familiare d...\n",
       "4     <s> Ai fini della possibilità di presentazione...\n",
       "...                                                 ...\n",
       "1062  <s> Scrooge era il suo unico esecutore testame...\n",
       "1063  <s> Anzi il nostro Scrooge , che per verità il...\n",
       "1064  <s> Il ricordo dei funerali mi fa tornare al p...\n",
       "1065  <s> Non c'è dunque dubbio che Marley era morto...\n",
       "1066  <s> Questo mettiamolo bene in sodo , se no nie...\n",
       "\n",
       "[1067 rows x 1 columns]"
      ]
     },
     "execution_count": 6,
     "metadata": {},
     "output_type": "execute_result"
    }
   ],
   "source": [
    "test_sent_df, test_words_df = read_conllu(\"data/UD_Italian-VIT-master/it_vit-ud-test.conllu\")\n",
    "test_sent_df"
   ]
  },
  {
   "cell_type": "code",
   "execution_count": 7,
   "id": "9dd40d70",
   "metadata": {},
   "outputs": [
    {
     "data": {
      "text/html": [
       "<div>\n",
       "<style scoped>\n",
       "    .dataframe tbody tr th:only-of-type {\n",
       "        vertical-align: middle;\n",
       "    }\n",
       "\n",
       "    .dataframe tbody tr th {\n",
       "        vertical-align: top;\n",
       "    }\n",
       "\n",
       "    .dataframe thead th {\n",
       "        text-align: right;\n",
       "    }\n",
       "</style>\n",
       "<table border=\"1\" class=\"dataframe\">\n",
       "  <thead>\n",
       "    <tr style=\"text-align: right;\">\n",
       "      <th></th>\n",
       "      <th>Words</th>\n",
       "      <th>Sentence</th>\n",
       "      <th>POS</th>\n",
       "    </tr>\n",
       "  </thead>\n",
       "  <tbody>\n",
       "    <tr>\n",
       "      <th>0</th>\n",
       "      <td>Non</td>\n",
       "      <td>0</td>\n",
       "      <td>ADV</td>\n",
       "    </tr>\n",
       "    <tr>\n",
       "      <th>1</th>\n",
       "      <td>sono</td>\n",
       "      <td>0</td>\n",
       "      <td>AUX</td>\n",
       "    </tr>\n",
       "    <tr>\n",
       "      <th>2</th>\n",
       "      <td>consentite</td>\n",
       "      <td>0</td>\n",
       "      <td>VERB</td>\n",
       "    </tr>\n",
       "    <tr>\n",
       "      <th>3</th>\n",
       "      <td>assegnazioni</td>\n",
       "      <td>0</td>\n",
       "      <td>NOUN</td>\n",
       "    </tr>\n",
       "    <tr>\n",
       "      <th>4</th>\n",
       "      <td>provvisorie</td>\n",
       "      <td>0</td>\n",
       "      <td>ADJ</td>\n",
       "    </tr>\n",
       "    <tr>\n",
       "      <th>...</th>\n",
       "      <td>...</td>\n",
       "      <td>...</td>\n",
       "      <td>...</td>\n",
       "    </tr>\n",
       "    <tr>\n",
       "      <th>27964</th>\n",
       "      <td>per</td>\n",
       "      <td>1066</td>\n",
       "      <td>ADP</td>\n",
       "    </tr>\n",
       "    <tr>\n",
       "      <th>27965</th>\n",
       "      <td>narrarvi</td>\n",
       "      <td>1066</td>\n",
       "      <td>_</td>\n",
       "    </tr>\n",
       "    <tr>\n",
       "      <th>27966</th>\n",
       "      <td>narrar</td>\n",
       "      <td>1066</td>\n",
       "      <td>VERB</td>\n",
       "    </tr>\n",
       "    <tr>\n",
       "      <th>27967</th>\n",
       "      <td>vi</td>\n",
       "      <td>1066</td>\n",
       "      <td>PRON</td>\n",
       "    </tr>\n",
       "    <tr>\n",
       "      <th>27968</th>\n",
       "      <td>.</td>\n",
       "      <td>1066</td>\n",
       "      <td>PUNCT</td>\n",
       "    </tr>\n",
       "  </tbody>\n",
       "</table>\n",
       "<p>27969 rows × 3 columns</p>\n",
       "</div>"
      ],
      "text/plain": [
       "              Words  Sentence    POS\n",
       "0               Non         0    ADV\n",
       "1              sono         0    AUX\n",
       "2        consentite         0   VERB\n",
       "3      assegnazioni         0   NOUN\n",
       "4       provvisorie         0    ADJ\n",
       "...             ...       ...    ...\n",
       "27964           per      1066    ADP\n",
       "27965      narrarvi      1066      _\n",
       "27966        narrar      1066   VERB\n",
       "27967            vi      1066   PRON\n",
       "27968             .      1066  PUNCT\n",
       "\n",
       "[27969 rows x 3 columns]"
      ]
     },
     "execution_count": 7,
     "metadata": {},
     "output_type": "execute_result"
    }
   ],
   "source": [
    "test_words_df"
   ]
  },
  {
   "cell_type": "code",
   "execution_count": 8,
   "id": "90fde4ff",
   "metadata": {},
   "outputs": [
    {
     "data": {
      "text/plain": [
       "23.529522024367385"
      ]
     },
     "execution_count": 8,
     "metadata": {},
     "output_type": "execute_result"
    }
   ],
   "source": [
    "test_sent_df['Sentences'].apply(lambda x: len(x.split())).mean()"
   ]
  },
  {
   "cell_type": "code",
   "execution_count": 9,
   "id": "a24f539a",
   "metadata": {},
   "outputs": [
    {
     "data": {
      "text/plain": [
       "5851"
      ]
     },
     "execution_count": 9,
     "metadata": {},
     "output_type": "execute_result"
    }
   ],
   "source": [
    "len(test_words_df[\"Words\"].unique())"
   ]
  },
  {
   "cell_type": "code",
   "execution_count": 10,
   "id": "729c6ad2",
   "metadata": {},
   "outputs": [
    {
     "data": {
      "text/html": [
       "<div>\n",
       "<style scoped>\n",
       "    .dataframe tbody tr th:only-of-type {\n",
       "        vertical-align: middle;\n",
       "    }\n",
       "\n",
       "    .dataframe tbody tr th {\n",
       "        vertical-align: top;\n",
       "    }\n",
       "\n",
       "    .dataframe thead th {\n",
       "        text-align: right;\n",
       "    }\n",
       "</style>\n",
       "<table border=\"1\" class=\"dataframe\">\n",
       "  <thead>\n",
       "    <tr style=\"text-align: right;\">\n",
       "      <th></th>\n",
       "      <th>Sentences</th>\n",
       "    </tr>\n",
       "  </thead>\n",
       "  <tbody>\n",
       "    <tr>\n",
       "      <th>0</th>\n",
       "      <td>&lt;s&gt; Ha l'acqua calda , più o meno si veste . &lt;e&gt;</td>\n",
       "    </tr>\n",
       "    <tr>\n",
       "      <th>1</th>\n",
       "      <td>&lt;s&gt; malgrado le guerre e i disastri naturali e...</td>\n",
       "    </tr>\n",
       "    <tr>\n",
       "      <th>2</th>\n",
       "      <td>&lt;s&gt; È come un'energia che sta crescendo comple...</td>\n",
       "    </tr>\n",
       "    <tr>\n",
       "      <th>3</th>\n",
       "      <td>&lt;s&gt; L'onorevole Charles Rose , deputato democr...</td>\n",
       "    </tr>\n",
       "    <tr>\n",
       "      <th>4</th>\n",
       "      <td>&lt;s&gt; Da qualche tempo , la sua espressione pref...</td>\n",
       "    </tr>\n",
       "    <tr>\n",
       "      <th>...</th>\n",
       "      <td>...</td>\n",
       "    </tr>\n",
       "    <tr>\n",
       "      <th>738</th>\n",
       "      <td>&lt;s&gt; Le gravi esigenze di salute dell'aspirante...</td>\n",
       "    </tr>\n",
       "    <tr>\n",
       "      <th>739</th>\n",
       "      <td>&lt;s&gt; Possono chiedere l'assegnazione provvisori...</td>\n",
       "    </tr>\n",
       "    <tr>\n",
       "      <th>740</th>\n",
       "      <td>&lt;s&gt; La relativa domanda va formulata contestua...</td>\n",
       "    </tr>\n",
       "    <tr>\n",
       "      <th>741</th>\n",
       "      <td>&lt;s&gt; Possono partecipare al movimento delle ass...</td>\n",
       "    </tr>\n",
       "    <tr>\n",
       "      <th>742</th>\n",
       "      <td>&lt;s&gt; Gli insegnanti di cui al precedente art . ...</td>\n",
       "    </tr>\n",
       "  </tbody>\n",
       "</table>\n",
       "<p>743 rows × 1 columns</p>\n",
       "</div>"
      ],
      "text/plain": [
       "                                             Sentences\n",
       "0     <s> Ha l'acqua calda , più o meno si veste . <e>\n",
       "1    <s> malgrado le guerre e i disastri naturali e...\n",
       "2    <s> È come un'energia che sta crescendo comple...\n",
       "3    <s> L'onorevole Charles Rose , deputato democr...\n",
       "4    <s> Da qualche tempo , la sua espressione pref...\n",
       "..                                                 ...\n",
       "738  <s> Le gravi esigenze di salute dell'aspirante...\n",
       "739  <s> Possono chiedere l'assegnazione provvisori...\n",
       "740  <s> La relativa domanda va formulata contestua...\n",
       "741  <s> Possono partecipare al movimento delle ass...\n",
       "742  <s> Gli insegnanti di cui al precedente art . ...\n",
       "\n",
       "[743 rows x 1 columns]"
      ]
     },
     "execution_count": 10,
     "metadata": {},
     "output_type": "execute_result"
    }
   ],
   "source": [
    "dev_sent_df, dev_words_df = read_conllu(\"data/UD_Italian-VIT-master/it_vit-ud-dev.conllu\")\n",
    "dev_sent_df"
   ]
  },
  {
   "cell_type": "code",
   "execution_count": 11,
   "id": "13985912",
   "metadata": {
    "scrolled": true
   },
   "outputs": [
    {
     "data": {
      "text/html": [
       "<div>\n",
       "<style scoped>\n",
       "    .dataframe tbody tr th:only-of-type {\n",
       "        vertical-align: middle;\n",
       "    }\n",
       "\n",
       "    .dataframe tbody tr th {\n",
       "        vertical-align: top;\n",
       "    }\n",
       "\n",
       "    .dataframe thead th {\n",
       "        text-align: right;\n",
       "    }\n",
       "</style>\n",
       "<table border=\"1\" class=\"dataframe\">\n",
       "  <thead>\n",
       "    <tr style=\"text-align: right;\">\n",
       "      <th></th>\n",
       "      <th>Words</th>\n",
       "      <th>Sentence</th>\n",
       "      <th>POS</th>\n",
       "    </tr>\n",
       "  </thead>\n",
       "  <tbody>\n",
       "    <tr>\n",
       "      <th>0</th>\n",
       "      <td>Ha</td>\n",
       "      <td>0</td>\n",
       "      <td>VERB</td>\n",
       "    </tr>\n",
       "    <tr>\n",
       "      <th>1</th>\n",
       "      <td>l'</td>\n",
       "      <td>0</td>\n",
       "      <td>DET</td>\n",
       "    </tr>\n",
       "    <tr>\n",
       "      <th>2</th>\n",
       "      <td>acqua</td>\n",
       "      <td>0</td>\n",
       "      <td>NOUN</td>\n",
       "    </tr>\n",
       "    <tr>\n",
       "      <th>3</th>\n",
       "      <td>calda</td>\n",
       "      <td>0</td>\n",
       "      <td>ADJ</td>\n",
       "    </tr>\n",
       "    <tr>\n",
       "      <th>4</th>\n",
       "      <td>,</td>\n",
       "      <td>0</td>\n",
       "      <td>PUNCT</td>\n",
       "    </tr>\n",
       "    <tr>\n",
       "      <th>...</th>\n",
       "      <td>...</td>\n",
       "      <td>...</td>\n",
       "      <td>...</td>\n",
       "    </tr>\n",
       "    <tr>\n",
       "      <th>31091</th>\n",
       "      <td>possono</td>\n",
       "      <td>742</td>\n",
       "      <td>AUX</td>\n",
       "    </tr>\n",
       "    <tr>\n",
       "      <th>31092</th>\n",
       "      <td>richiedere</td>\n",
       "      <td>742</td>\n",
       "      <td>VERB</td>\n",
       "    </tr>\n",
       "    <tr>\n",
       "      <th>31093</th>\n",
       "      <td>per</td>\n",
       "      <td>742</td>\n",
       "      <td>ADP</td>\n",
       "    </tr>\n",
       "    <tr>\n",
       "      <th>31094</th>\n",
       "      <td>trasferimento</td>\n",
       "      <td>742</td>\n",
       "      <td>NOUN</td>\n",
       "    </tr>\n",
       "    <tr>\n",
       "      <th>31095</th>\n",
       "      <td>.</td>\n",
       "      <td>742</td>\n",
       "      <td>PUNCT</td>\n",
       "    </tr>\n",
       "  </tbody>\n",
       "</table>\n",
       "<p>31096 rows × 3 columns</p>\n",
       "</div>"
      ],
      "text/plain": [
       "               Words  Sentence    POS\n",
       "0                 Ha         0   VERB\n",
       "1                 l'         0    DET\n",
       "2              acqua         0   NOUN\n",
       "3              calda         0    ADJ\n",
       "4                  ,         0  PUNCT\n",
       "...              ...       ...    ...\n",
       "31091        possono       742    AUX\n",
       "31092     richiedere       742   VERB\n",
       "31093            per       742    ADP\n",
       "31094  trasferimento       742   NOUN\n",
       "31095              .       742  PUNCT\n",
       "\n",
       "[31096 rows x 3 columns]"
      ]
     },
     "execution_count": 11,
     "metadata": {},
     "output_type": "execute_result"
    }
   ],
   "source": [
    "dev_words_df"
   ]
  },
  {
   "cell_type": "code",
   "execution_count": 13,
   "id": "7313d8b0",
   "metadata": {},
   "outputs": [
    {
     "data": {
      "text/plain": [
       "array(['DET', 'NOUN', 'ADP', 'PROPN', 'PUNCT', '_', 'ADJ', 'AUX', 'ADV',\n",
       "       'VERB', 'PRON', 'CCONJ', 'SCONJ', 'NUM', 'SYM', 'X', 'INTJ',\n",
       "       'PART'], dtype=object)"
      ]
     },
     "execution_count": 13,
     "metadata": {},
     "output_type": "execute_result"
    }
   ],
   "source": [
    "train_words_df['POS'].unique()"
   ]
  },
  {
   "cell_type": "code",
   "execution_count": 14,
   "id": "005d3bc0",
   "metadata": {},
   "outputs": [
    {
     "data": {
      "text/plain": [
       "array(['ADV', 'AUX', 'VERB', 'NOUN', 'ADJ', '_', 'ADP', 'DET', 'PUNCT',\n",
       "       'CCONJ', 'PRON', 'NUM', 'SCONJ', 'PROPN', 'X', 'INTJ', 'SYM'],\n",
       "      dtype=object)"
      ]
     },
     "execution_count": 14,
     "metadata": {},
     "output_type": "execute_result"
    }
   ],
   "source": [
    "test_words_df['POS'].unique()"
   ]
  },
  {
   "cell_type": "code",
   "execution_count": 12,
   "id": "fec35aee",
   "metadata": {},
   "outputs": [
    {
     "data": {
      "text/plain": [
       "array(['VERB', 'DET', 'NOUN', 'ADJ', 'PUNCT', 'ADV', 'CCONJ', 'PRON',\n",
       "       'ADP', 'AUX', 'NUM', 'PROPN', '_', 'X', 'SCONJ', 'INTJ'],\n",
       "      dtype=object)"
      ]
     },
     "execution_count": 12,
     "metadata": {},
     "output_type": "execute_result"
    }
   ],
   "source": [
    "dev_words_df['POS'].unique()"
   ]
  },
  {
   "cell_type": "code",
   "execution_count": 12,
   "id": "e4386147",
   "metadata": {
    "scrolled": true
   },
   "outputs": [
    {
     "data": {
      "text/plain": [
       "35.51682368775236"
      ]
     },
     "execution_count": 12,
     "metadata": {},
     "output_type": "execute_result"
    }
   ],
   "source": [
    "dev_sent_df['Sentences'].apply(lambda x: len(x.split())).mean()"
   ]
  },
  {
   "cell_type": "code",
   "execution_count": 13,
   "id": "82e3013a",
   "metadata": {},
   "outputs": [
    {
     "data": {
      "text/plain": [
       "3638"
      ]
     },
     "execution_count": 13,
     "metadata": {},
     "output_type": "execute_result"
    }
   ],
   "source": [
    "len(dev_words_df[\"Words\"].unique())"
   ]
  },
  {
   "cell_type": "markdown",
   "id": "73c3b2b6",
   "metadata": {},
   "source": [
    "## Window sets creation"
   ]
  },
  {
   "cell_type": "markdown",
   "id": "ee70f187",
   "metadata": {},
   "source": [
    "Below we can see all the unique POS tags that will be used as labels in our classification."
   ]
  },
  {
   "cell_type": "code",
   "execution_count": 14,
   "id": "eacc6951",
   "metadata": {},
   "outputs": [
    {
     "data": {
      "text/plain": [
       "array(['DET', 'NOUN', 'ADP', 'PROPN', 'PUNCT', '_', 'ADJ', 'AUX', 'ADV',\n",
       "       'VERB', 'PRON', 'CCONJ', 'SCONJ', 'NUM', 'SYM', 'X', 'INTJ',\n",
       "       'PART'], dtype=object)"
      ]
     },
     "execution_count": 14,
     "metadata": {},
     "output_type": "execute_result"
    }
   ],
   "source": [
    "train_words_df['POS'].unique()"
   ]
  },
  {
   "cell_type": "code",
   "execution_count": 15,
   "id": "a57cae6c",
   "metadata": {},
   "outputs": [
    {
     "data": {
      "text/plain": [
       "18"
      ]
     },
     "execution_count": 15,
     "metadata": {},
     "output_type": "execute_result"
    }
   ],
   "source": [
    "len(train_words_df['POS'].unique())"
   ]
  },
  {
   "cell_type": "markdown",
   "id": "d3b712bf",
   "metadata": {},
   "source": [
    "With the methods seen below, we will create 3 datasets (for training, development and testing) using the windows approach. By looking in our sentences, for each word in position i we will save its previous (i-1) and next words (i+1). Also we will keep the POS tag for the word i, which will be our target column."
   ]
  },
  {
   "cell_type": "code",
   "execution_count": 11,
   "id": "2449dcf1",
   "metadata": {},
   "outputs": [
    {
     "name": "stderr",
     "output_type": "stream",
     "text": [
      "ProcessingDevelopmentSentences: 100%|██████████| 743/743 [01:31<00:00,  8.14it/s]\n"
     ]
    },
    {
     "data": {
      "text/html": [
       "<div>\n",
       "<style scoped>\n",
       "    .dataframe tbody tr th:only-of-type {\n",
       "        vertical-align: middle;\n",
       "    }\n",
       "\n",
       "    .dataframe tbody tr th {\n",
       "        vertical-align: top;\n",
       "    }\n",
       "\n",
       "    .dataframe thead th {\n",
       "        text-align: right;\n",
       "    }\n",
       "</style>\n",
       "<table border=\"1\" class=\"dataframe\">\n",
       "  <thead>\n",
       "    <tr style=\"text-align: right;\">\n",
       "      <th></th>\n",
       "      <th>Wi-1</th>\n",
       "      <th>Wi</th>\n",
       "      <th>Wi+1</th>\n",
       "      <th>Wi_POS_tag</th>\n",
       "    </tr>\n",
       "  </thead>\n",
       "  <tbody>\n",
       "    <tr>\n",
       "      <th>0</th>\n",
       "      <td>&lt;s&gt;</td>\n",
       "      <td>Ha</td>\n",
       "      <td>l'acqua</td>\n",
       "      <td>VERB</td>\n",
       "    </tr>\n",
       "    <tr>\n",
       "      <th>1</th>\n",
       "      <td>l'acqua</td>\n",
       "      <td>calda</td>\n",
       "      <td>,</td>\n",
       "      <td>ADJ</td>\n",
       "    </tr>\n",
       "    <tr>\n",
       "      <th>2</th>\n",
       "      <td>calda</td>\n",
       "      <td>,</td>\n",
       "      <td>più</td>\n",
       "      <td>PUNCT</td>\n",
       "    </tr>\n",
       "    <tr>\n",
       "      <th>3</th>\n",
       "      <td>,</td>\n",
       "      <td>più</td>\n",
       "      <td>o</td>\n",
       "      <td>ADV</td>\n",
       "    </tr>\n",
       "    <tr>\n",
       "      <th>4</th>\n",
       "      <td>più</td>\n",
       "      <td>o</td>\n",
       "      <td>meno</td>\n",
       "      <td>CCONJ</td>\n",
       "    </tr>\n",
       "    <tr>\n",
       "      <th>...</th>\n",
       "      <td>...</td>\n",
       "      <td>...</td>\n",
       "      <td>...</td>\n",
       "      <td>...</td>\n",
       "    </tr>\n",
       "    <tr>\n",
       "      <th>23665</th>\n",
       "      <td>che</td>\n",
       "      <td>possono</td>\n",
       "      <td>richiedere</td>\n",
       "      <td>AUX</td>\n",
       "    </tr>\n",
       "    <tr>\n",
       "      <th>23666</th>\n",
       "      <td>possono</td>\n",
       "      <td>richiedere</td>\n",
       "      <td>per</td>\n",
       "      <td>VERB</td>\n",
       "    </tr>\n",
       "    <tr>\n",
       "      <th>23667</th>\n",
       "      <td>richiedere</td>\n",
       "      <td>per</td>\n",
       "      <td>trasferimento</td>\n",
       "      <td>ADP</td>\n",
       "    </tr>\n",
       "    <tr>\n",
       "      <th>23668</th>\n",
       "      <td>per</td>\n",
       "      <td>trasferimento</td>\n",
       "      <td>.</td>\n",
       "      <td>NOUN</td>\n",
       "    </tr>\n",
       "    <tr>\n",
       "      <th>23669</th>\n",
       "      <td>trasferimento</td>\n",
       "      <td>.</td>\n",
       "      <td>&lt;e&gt;</td>\n",
       "      <td>PUNCT</td>\n",
       "    </tr>\n",
       "  </tbody>\n",
       "</table>\n",
       "<p>23670 rows × 4 columns</p>\n",
       "</div>"
      ],
      "text/plain": [
       "                Wi-1             Wi           Wi+1 Wi_POS_tag\n",
       "0                <s>             Ha        l'acqua       VERB\n",
       "1            l'acqua          calda              ,        ADJ\n",
       "2              calda              ,            più      PUNCT\n",
       "3                  ,            più              o        ADV\n",
       "4                più              o           meno      CCONJ\n",
       "...              ...            ...            ...        ...\n",
       "23665            che        possono     richiedere        AUX\n",
       "23666        possono     richiedere            per       VERB\n",
       "23667     richiedere            per  trasferimento        ADP\n",
       "23668            per  trasferimento              .       NOUN\n",
       "23669  trasferimento              .            <e>      PUNCT\n",
       "\n",
       "[23670 rows x 4 columns]"
      ]
     },
     "execution_count": 11,
     "metadata": {},
     "output_type": "execute_result"
    }
   ],
   "source": [
    "from itertools import combinations\n",
    "from tqdm import tqdm\n",
    "\n",
    "def generate_three_word_combinations(sentence):\n",
    "    combinations = []\n",
    "    words = sentence.split()\n",
    "    for i in range(0,len(words)):\n",
    "        if (words[i] == \"<s>\") or (words[i] == \"<e>\"):\n",
    "            continue\n",
    "        combinations.append(list([words[i-1], words[i], words[i+1]]))\n",
    "    return combinations\n",
    "\n",
    "def generate_df(sent_df ,word_df,set_name):\n",
    "    new_data = {'Wi-1': [], 'Wi': [], 'Wi+1': [], \"Wi_POS_tag\" : []}\n",
    "    i = 0\n",
    "    for sentence in tqdm(sent_df['Sentences'], desc=\"Processing\" + set_name + \"Sentences\"):\n",
    "        combinations_list = generate_three_word_combinations(sentence)\n",
    "        for combination in combinations_list:\n",
    "            if (not word_df[(word_df[\"Words\"]==combination[1]) & (word_df[\"Sentence\"]==i)]['POS'].empty):\n",
    "                new_data['Wi-1'].append(combination[0])\n",
    "                new_data['Wi'].append(combination[1])\n",
    "                new_data['Wi+1'].append(combination[2])\n",
    "                new_data[\"Wi_POS_tag\"].append(word_df[(word_df[\"Words\"]==combination[1]) & (word_df[\"Sentence\"]==i)]['POS'].values[0])\n",
    "        i += 1\n",
    "    windows_df = pd.DataFrame(new_data)\n",
    "    return windows_df\n",
    "\n",
    "dev_windows_df = generate_df(dev_sent_df, dev_words_df, \"Development\")\n",
    "dev_windows_df"
   ]
  },
  {
   "cell_type": "code",
   "execution_count": 12,
   "id": "33011a28",
   "metadata": {},
   "outputs": [
    {
     "name": "stderr",
     "output_type": "stream",
     "text": [
      "ProcessingTrainSentences: 100%|██████████| 8277/8277 [1:26:05<00:00,  1.60it/s]\n",
      "ProcessingTestSentences: 100%|██████████| 1067/1067 [01:14<00:00, 14.34it/s]\n"
     ]
    }
   ],
   "source": [
    "train_windows_df = generate_df(train_sent_df, train_words_df, \"Train\")\n",
    "test_windows_df = generate_df(test_sent_df, test_words_df, \"Test\")"
   ]
  },
  {
   "cell_type": "code",
   "execution_count": 13,
   "id": "552ccf9d",
   "metadata": {},
   "outputs": [
    {
     "data": {
      "text/html": [
       "<div>\n",
       "<style scoped>\n",
       "    .dataframe tbody tr th:only-of-type {\n",
       "        vertical-align: middle;\n",
       "    }\n",
       "\n",
       "    .dataframe tbody tr th {\n",
       "        vertical-align: top;\n",
       "    }\n",
       "\n",
       "    .dataframe thead th {\n",
       "        text-align: right;\n",
       "    }\n",
       "</style>\n",
       "<table border=\"1\" class=\"dataframe\">\n",
       "  <thead>\n",
       "    <tr style=\"text-align: right;\">\n",
       "      <th></th>\n",
       "      <th>Wi-1</th>\n",
       "      <th>Wi</th>\n",
       "      <th>Wi+1</th>\n",
       "      <th>Wi_POS_tag</th>\n",
       "    </tr>\n",
       "  </thead>\n",
       "  <tbody>\n",
       "    <tr>\n",
       "      <th>0</th>\n",
       "      <td>&lt;s&gt;</td>\n",
       "      <td>Le</td>\n",
       "      <td>infrastrutture</td>\n",
       "      <td>DET</td>\n",
       "    </tr>\n",
       "    <tr>\n",
       "      <th>1</th>\n",
       "      <td>Le</td>\n",
       "      <td>infrastrutture</td>\n",
       "      <td>come</td>\n",
       "      <td>NOUN</td>\n",
       "    </tr>\n",
       "    <tr>\n",
       "      <th>2</th>\n",
       "      <td>infrastrutture</td>\n",
       "      <td>come</td>\n",
       "      <td>fattore</td>\n",
       "      <td>ADP</td>\n",
       "    </tr>\n",
       "    <tr>\n",
       "      <th>3</th>\n",
       "      <td>come</td>\n",
       "      <td>fattore</td>\n",
       "      <td>di</td>\n",
       "      <td>NOUN</td>\n",
       "    </tr>\n",
       "    <tr>\n",
       "      <th>4</th>\n",
       "      <td>fattore</td>\n",
       "      <td>di</td>\n",
       "      <td>competitività</td>\n",
       "      <td>ADP</td>\n",
       "    </tr>\n",
       "    <tr>\n",
       "      <th>...</th>\n",
       "      <td>...</td>\n",
       "      <td>...</td>\n",
       "      <td>...</td>\n",
       "      <td>...</td>\n",
       "    </tr>\n",
       "    <tr>\n",
       "      <th>183845</th>\n",
       "      <td>Ramondino</td>\n",
       "      <td>.</td>\n",
       "      <td>&lt;e&gt;</td>\n",
       "      <td>PUNCT</td>\n",
       "    </tr>\n",
       "    <tr>\n",
       "      <th>183846</th>\n",
       "      <td>&lt;s&gt;</td>\n",
       "      <td>Libri</td>\n",
       "      <td>in</td>\n",
       "      <td>NOUN</td>\n",
       "    </tr>\n",
       "    <tr>\n",
       "      <th>183847</th>\n",
       "      <td>Libri</td>\n",
       "      <td>in</td>\n",
       "      <td>campo</td>\n",
       "      <td>ADP</td>\n",
       "    </tr>\n",
       "    <tr>\n",
       "      <th>183848</th>\n",
       "      <td>in</td>\n",
       "      <td>campo</td>\n",
       "      <td>.</td>\n",
       "      <td>NOUN</td>\n",
       "    </tr>\n",
       "    <tr>\n",
       "      <th>183849</th>\n",
       "      <td>campo</td>\n",
       "      <td>.</td>\n",
       "      <td>&lt;e&gt;</td>\n",
       "      <td>PUNCT</td>\n",
       "    </tr>\n",
       "  </tbody>\n",
       "</table>\n",
       "<p>183850 rows × 4 columns</p>\n",
       "</div>"
      ],
      "text/plain": [
       "                  Wi-1              Wi            Wi+1 Wi_POS_tag\n",
       "0                  <s>              Le  infrastrutture        DET\n",
       "1                   Le  infrastrutture            come       NOUN\n",
       "2       infrastrutture            come         fattore        ADP\n",
       "3                 come         fattore              di       NOUN\n",
       "4              fattore              di   competitività        ADP\n",
       "...                ...             ...             ...        ...\n",
       "183845       Ramondino               .             <e>      PUNCT\n",
       "183846             <s>           Libri              in       NOUN\n",
       "183847           Libri              in           campo        ADP\n",
       "183848              in           campo               .       NOUN\n",
       "183849           campo               .             <e>      PUNCT\n",
       "\n",
       "[183850 rows x 4 columns]"
      ]
     },
     "execution_count": 13,
     "metadata": {},
     "output_type": "execute_result"
    }
   ],
   "source": [
    "train_windows_df"
   ]
  },
  {
   "cell_type": "code",
   "execution_count": 14,
   "id": "e2b4ff3e",
   "metadata": {},
   "outputs": [
    {
     "data": {
      "text/html": [
       "<div>\n",
       "<style scoped>\n",
       "    .dataframe tbody tr th:only-of-type {\n",
       "        vertical-align: middle;\n",
       "    }\n",
       "\n",
       "    .dataframe tbody tr th {\n",
       "        vertical-align: top;\n",
       "    }\n",
       "\n",
       "    .dataframe thead th {\n",
       "        text-align: right;\n",
       "    }\n",
       "</style>\n",
       "<table border=\"1\" class=\"dataframe\">\n",
       "  <thead>\n",
       "    <tr style=\"text-align: right;\">\n",
       "      <th></th>\n",
       "      <th>Wi-1</th>\n",
       "      <th>Wi</th>\n",
       "      <th>Wi+1</th>\n",
       "      <th>Wi_POS_tag</th>\n",
       "    </tr>\n",
       "  </thead>\n",
       "  <tbody>\n",
       "    <tr>\n",
       "      <th>0</th>\n",
       "      <td>&lt;s&gt;</td>\n",
       "      <td>Non</td>\n",
       "      <td>sono</td>\n",
       "      <td>ADV</td>\n",
       "    </tr>\n",
       "    <tr>\n",
       "      <th>1</th>\n",
       "      <td>Non</td>\n",
       "      <td>sono</td>\n",
       "      <td>consentite</td>\n",
       "      <td>AUX</td>\n",
       "    </tr>\n",
       "    <tr>\n",
       "      <th>2</th>\n",
       "      <td>sono</td>\n",
       "      <td>consentite</td>\n",
       "      <td>assegnazioni</td>\n",
       "      <td>VERB</td>\n",
       "    </tr>\n",
       "    <tr>\n",
       "      <th>3</th>\n",
       "      <td>consentite</td>\n",
       "      <td>assegnazioni</td>\n",
       "      <td>provvisorie</td>\n",
       "      <td>NOUN</td>\n",
       "    </tr>\n",
       "    <tr>\n",
       "      <th>4</th>\n",
       "      <td>assegnazioni</td>\n",
       "      <td>provvisorie</td>\n",
       "      <td>nell'ambito</td>\n",
       "      <td>ADJ</td>\n",
       "    </tr>\n",
       "    <tr>\n",
       "      <th>...</th>\n",
       "      <td>...</td>\n",
       "      <td>...</td>\n",
       "      <td>...</td>\n",
       "      <td>...</td>\n",
       "    </tr>\n",
       "    <tr>\n",
       "      <th>21497</th>\n",
       "      <td>storia</td>\n",
       "      <td>che</td>\n",
       "      <td>son</td>\n",
       "      <td>PRON</td>\n",
       "    </tr>\n",
       "    <tr>\n",
       "      <th>21498</th>\n",
       "      <td>che</td>\n",
       "      <td>son</td>\n",
       "      <td>per</td>\n",
       "      <td>VERB</td>\n",
       "    </tr>\n",
       "    <tr>\n",
       "      <th>21499</th>\n",
       "      <td>son</td>\n",
       "      <td>per</td>\n",
       "      <td>narrarvi</td>\n",
       "      <td>ADP</td>\n",
       "    </tr>\n",
       "    <tr>\n",
       "      <th>21500</th>\n",
       "      <td>per</td>\n",
       "      <td>narrarvi</td>\n",
       "      <td>.</td>\n",
       "      <td>_</td>\n",
       "    </tr>\n",
       "    <tr>\n",
       "      <th>21501</th>\n",
       "      <td>narrarvi</td>\n",
       "      <td>.</td>\n",
       "      <td>&lt;e&gt;</td>\n",
       "      <td>PUNCT</td>\n",
       "    </tr>\n",
       "  </tbody>\n",
       "</table>\n",
       "<p>21502 rows × 4 columns</p>\n",
       "</div>"
      ],
      "text/plain": [
       "               Wi-1            Wi          Wi+1 Wi_POS_tag\n",
       "0               <s>           Non          sono        ADV\n",
       "1               Non          sono    consentite        AUX\n",
       "2              sono    consentite  assegnazioni       VERB\n",
       "3        consentite  assegnazioni   provvisorie       NOUN\n",
       "4      assegnazioni   provvisorie   nell'ambito        ADJ\n",
       "...             ...           ...           ...        ...\n",
       "21497        storia           che           son       PRON\n",
       "21498           che           son           per       VERB\n",
       "21499           son           per      narrarvi        ADP\n",
       "21500           per      narrarvi             .          _\n",
       "21501      narrarvi             .           <e>      PUNCT\n",
       "\n",
       "[21502 rows x 4 columns]"
      ]
     },
     "execution_count": 14,
     "metadata": {},
     "output_type": "execute_result"
    }
   ],
   "source": [
    "test_windows_df"
   ]
  },
  {
   "cell_type": "markdown",
   "id": "e19cd730",
   "metadata": {},
   "source": [
    "We save our sets to train the MLP in EX_10_B.ipynb."
   ]
  },
  {
   "cell_type": "code",
   "execution_count": 15,
   "id": "317d5120",
   "metadata": {},
   "outputs": [],
   "source": [
    "train_windows_df.to_csv(\"train_windows.csv\", index=False)\n",
    "test_windows_df.to_csv(\"test_windows.csv\", index=False)\n",
    "dev_windows_df.to_csv(\"dev_windows.csv\", index=False)"
   ]
  },
  {
   "cell_type": "markdown",
   "id": "31c1ece4",
   "metadata": {},
   "source": [
    "## Baseline Model"
   ]
  },
  {
   "cell_type": "markdown",
   "id": "6039cec6",
   "metadata": {},
   "source": [
    "We developed a majority baseline model for the classification, that assigns each word to its most frequent tag in training and for new words, assigns them to the most frequent tag of training in general."
   ]
  },
  {
   "cell_type": "code",
   "execution_count": 16,
   "id": "65d612ab",
   "metadata": {},
   "outputs": [],
   "source": [
    "from sklearn.metrics import classification_report\n",
    "\n",
    "def majority_baseline(train_df, test_df):\n",
    "    most_frequent_tags = train_df.groupby('Words')['POS'].agg(lambda x: x.mode().iloc[0]).to_dict()\n",
    "    test_df['prediction'] = test_df['Words'].map(most_frequent_tags)\n",
    "    most_frequent_tag_training = train_df['POS'].mode().iloc[0]\n",
    "    test_df['prediction'].fillna(most_frequent_tag_training, inplace=True)\n",
    "    report = classification_report(test_df['POS'], test_df['prediction'])\n",
    "    print(report)"
   ]
  },
  {
   "cell_type": "code",
   "execution_count": 17,
   "id": "52e71436",
   "metadata": {},
   "outputs": [
    {
     "name": "stdout",
     "output_type": "stream",
     "text": [
      "              precision    recall  f1-score   support\n",
      "\n",
      "         ADJ       0.82      0.68      0.74      1555\n",
      "         ADP       0.99      0.99      0.99      3862\n",
      "         ADV       0.92      0.92      0.92      1234\n",
      "         AUX       0.86      0.97      0.91      1058\n",
      "       CCONJ       0.98      0.91      0.94       774\n",
      "         DET       0.94      0.98      0.96      3898\n",
      "        INTJ       0.69      0.69      0.69        16\n",
      "        NOUN       0.72      0.95      0.82      4967\n",
      "         NUM       0.98      0.86      0.91       418\n",
      "        PRON       0.78      0.78      0.78      1259\n",
      "       PROPN       0.98      0.56      0.71      1290\n",
      "       PUNCT       1.00      1.00      1.00      3351\n",
      "       SCONJ       0.83      0.39      0.53       326\n",
      "         SYM       1.00      1.00      1.00         3\n",
      "        VERB       0.93      0.63      0.75      2281\n",
      "           X       0.86      0.27      0.41        44\n",
      "           _       0.99      0.96      0.97      1633\n",
      "\n",
      "    accuracy                           0.89     27969\n",
      "   macro avg       0.90      0.80      0.83     27969\n",
      "weighted avg       0.90      0.89      0.89     27969\n",
      "\n"
     ]
    }
   ],
   "source": [
    "majority_baseline(train_words_df, test_words_df)"
   ]
  },
  {
   "cell_type": "code",
   "execution_count": null,
   "id": "2be4d665",
   "metadata": {},
   "outputs": [],
   "source": []
  }
 ],
 "metadata": {
  "kernelspec": {
   "display_name": "Python 3 (ipykernel)",
   "language": "python",
   "name": "python3"
  },
  "language_info": {
   "codemirror_mode": {
    "name": "ipython",
    "version": 3
   },
   "file_extension": ".py",
   "mimetype": "text/x-python",
   "name": "python",
   "nbconvert_exporter": "python",
   "pygments_lexer": "ipython3",
   "version": "3.11.4"
  }
 },
 "nbformat": 4,
 "nbformat_minor": 5
}
